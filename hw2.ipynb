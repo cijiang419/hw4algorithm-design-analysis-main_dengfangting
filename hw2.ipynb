{
 "cells": [
  {
   "cell_type": "markdown",
   "metadata": {},
   "source": [
    "## algorithm design and anlysis-2025 spring  homework 2\n",
    "**Deadline**：2025.5.14\n",
    "\n",
    "**name**:邓方婷\n",
    "\n",
    "\n",
    "note：\n",
    "---\n",
    "1. 带有\\*的题目，申请免上课的同学，必须完成，其他同学选作；\n",
    "2. 请独立完成，如求助了他人或者大模型，请著明，并且不可省略算法分析部分；\n",
    "4. 如若作答有雷同，全部取消成绩；\n",
    "3. 需要书面作答的题目，可以通过引用图片的形式添加，但是注意上传项目时包含所引用的图片的源文件；\n",
    "4. $log_n$ 默认表示$log_2{n}$;"
   ]
  },
  {
   "cell_type": "markdown",
   "metadata": {},
   "source": [
    "## 问题 1  \n",
    "\n",
    "> 给定一个已排序的链表的头 `head` ， *删除所有重复的元素，使每个元素只出现一次* 。返回 *已排序的链表* 。链表的类如下所示：\n",
    "\n",
    "```python\n",
    "class NodeList:\n",
    "    def __init__(self, val=None, right=None):\n",
    "        self.val   = val\n",
    "        self.right = right\n",
    "```\n",
    "\n",
    "输入是一个数组，你首先需要将数组转化为链表，然后删除链表中的重复元素，再遍历链表元素，以一个数组的形式返回。请设计一个算法解决上述任务，分析算法设计思路，计算时间复杂度, 并基于python编程实现。\n",
    "\n",
    "e.g.  输入：head=[1, 1, 2, 3, 3]   输出：[1, 2, 3]\n",
    "\n",
    "![image-20240502110020439](./fig/hw2q1.png)\n",
    "\n"
   ]
  },
  {
   "cell_type": "markdown",
   "metadata": {},
   "source": [
    "idea：1、构建链表：遍历输入数组，依次创建链表节点并连接起来，构建出链表。\n",
    "\n",
    "2、删除重复元素：遍历链表，对于每个节点，检查其值是否与下一个节点的值相同。如果相同，则跳过下一个节点（即修改当前节点的right指针指向下下个节点）。\n",
    "\n",
    "3、链表转数组：最后将处理后的链表转换回数组形式返回。\n",
    "\n",
    "由于链表已经是排序好的，重复元素必然是相邻的，因此只需一次遍历即可完成去重操作。"
   ]
  },
  {
   "cell_type": "code",
   "metadata": {
    "ExecuteTime": {
     "end_time": "2025-05-09T09:06:36.216116Z",
     "start_time": "2025-05-09T09:06:36.203814Z"
    }
   },
   "source": [
    "# add your idea here\n",
    "class NodeList:\n",
    "    def __init__(self, val=None, right=None):\n",
    "        self.val = val\n",
    "        self.right = right\n",
    "\n",
    "def array_to_linked_list(arr):\n",
    "    if not arr:\n",
    "        return None\n",
    "    head = NodeList(arr[0])\n",
    "    current = head\n",
    "    for val in arr[1:]:\n",
    "        current.right = NodeList(val)\n",
    "        current = current.right\n",
    "    return head\n",
    "\n",
    "def linked_list_to_array(head):\n",
    "    arr = []\n",
    "    current = head\n",
    "    while current:\n",
    "        arr.append(current.val)\n",
    "        current = current.right\n",
    "    return arr\n",
    "\n",
    "def delete_duplicates(head):\n",
    "    if not head:\n",
    "        return None\n",
    "    \n",
    "    current = head\n",
    "    while current.right:\n",
    "        if current.val == current.right.val:\n",
    "            current.right = current.right.right\n",
    "        else:\n",
    "            current = current.right\n",
    "    return head\n",
    "\n",
    "def remove_duplicates(arr):\n",
    "    # 将数组转换为链表\n",
    "    head = array_to_linked_list(arr)\n",
    "    # 删除重复元素\n",
    "    head = delete_duplicates(head)\n",
    "    # 将链表转换回数组\n",
    "    return linked_list_to_array(head)\n",
    "\n",
    "# example\n",
    "print(remove_duplicates([1, 1, 2, 3, 3]))  \n",
    "# your algorithm time complexity is:O(n)"
   ],
   "outputs": [
    {
     "name": "stdout",
     "output_type": "stream",
     "text": [
      "[1, 2, 3]\n"
     ]
    }
   ],
   "execution_count": 30
  },
  {
   "cell_type": "markdown",
   "metadata": {},
   "source": [
    "## 问题 2  \n",
    "\n",
    "> 下面是一个经典的算法问题：\n",
    ">\n",
    "> - 给定包含n个整数的一个整数数组 `nums` 和一个整数目标值 `target`，请你在该数组中找出 **和为目标值** *`target`* 的那 **两个** 整数，并返回它们的**数组下标**。假设每种输入只会对应一个答案。但是，数组中同一个元素在答案里不能重复出现。你可以按任意顺序返回答案。\n",
    ">\n",
    "> 由于要多次查找数组中元素的位置，为了提高查询效率可以使用哈希表来存储数组中的数据，在哈希表中查询一个元素的复杂度为O(1)。 已知python中的字典是使用哈希表实现的，即使用`dict[key]`查询对应的value时间复杂度为O(1), python提供了查询字典是否包含某个key的功能：`key in dict`，时间复杂度也是O(1)\n",
    "\n",
    "请根据上面信息，设计一个时间复杂度为O(n) 的算法，解决上述算法问题\n",
    "\n",
    "e.g.   \n",
    "\n",
    "输入：nums=[2,7,11,15], target=9， 输出：[0，1]\n",
    "\n",
    "输入：nums=[3,2,4], target=6, 输出：[1,2]\n",
    "\n",
    "输入：nums=[3,3], target=6,  输出：[0,1]\n"
   ]
  },
  {
   "cell_type": "code",
   "metadata": {},
   "source": [
    "# add your idea here\n",
    "def two_sum(nums, target):\n",
    "    num_indices = {}  # 存储数字及其索引的字典\n",
    "    for i, num in enumerate(nums):\n",
    "        complement = target - num  # 计算补数\n",
    "        if complement in num_indices:  # 如果补数已经存在于字典中\n",
    "            return [num_indices[complement], i]  # 返回补数的索引和当前索引\n",
    "        num_indices[num] = i  # 将当前数字及其索引存入字典\n",
    "    return []  # 如果没有找到，返回空列表\n",
    "\n",
    "# example\n",
    "print(two_sum([2, 7, 11, 15], 9))  # 输出: [0, 1]\n",
    "print(two_sum([3, 2, 4], 6))       # 输出: [1, 2]\n",
    "print(two_sum([3, 3], 6))          # 输出: [0, 1]\n",
    "# your algorithm time complexity is: O(n)"
   ],
   "outputs": [],
   "execution_count": null
  },
  {
   "cell_type": "markdown",
   "metadata": {},
   "source": [
    "## 问题 3:   \n",
    "\n",
    "> 栈是一种常用的数据结构，编译器中通常使用栈来实现表达式求值。\n",
    ">\n",
    "> 以表达式 $3+5 \\times 8-6$​ 为例。编译器使用两个栈来完成运算，即一个栈保持操作数，另一个栈保存运算符。\n",
    ">\n",
    "> 1. 从左向右遍历表达式，遇到数字就压入操作数栈；\n",
    ">\n",
    "> 2. 遇到运算符，就与运算符栈的栈顶元素进行比较。如果比运算符栈顶元素的优先级高，就将当前运算符压入栈；如果比运算符栈顶元素的优先级低或者相同，从运算符栈中取栈顶运算符，从操作数栈的栈顶取 2 个操作数，然后进行计算，再把计算完的结果压入操作数栈，继续比较。\n",
    ">\n",
    "> 下图是 $3+5 \\times 8-6$  这个表达式的计算过程：\n",
    "\n",
    "![figure](./fig/hw2q3.png)\n",
    "\n",
    "根据上述原理，请设计一个算法完成表达式的运算，当输入为表达式字符串，返回对应的计算结果。分析算法设计思路，计算时间复杂度，并基于python编程实现\n",
    "\n",
    "**note：**\n",
    "\n",
    "1. 假设输入的表达式只会出现加（“+”），减 “-”， 乘“*”，除 “/” 四个运算符, 表达式中只会出现正整数\n",
    "2. python中` str.isdigit()`函数可以判断字符串str是否为数字，\n",
    "\n",
    "\n",
    "\n",
    "e.g. :\n",
    "---\n",
    "\n",
    "1. 输入：“$3+5 * 8 -6$”   输出：37\n",
    "\n",
    "2. 输入：“$34+13*9 + 44-12/3$”  输出：191"
   ]
  },
  {
   "cell_type": "markdown",
   "metadata": {},
   "source": [
    "idea：（借助大模型）算法设计思路：1、初始化两个栈：一个用于操作数，一个用于运算符\n",
    "\n",
    "2、定义运算符优先级：乘法、除法优先级高于加法、减法\n",
    "\n",
    "3、遍历表达式字符：遇到数字时，读取完整数字并压入操作数栈；遇到运算符时，与运算符栈顶比较优先级，按需进行计算\n",
    "\n",
    "4、处理剩余运算：表达式遍历完成后，处理栈中剩余的运算符\n",
    "\n",
    "5、返回最终结果：操作数栈中最后剩下的数字就是结果\n",
    "\n",
    "\n",
    "代码说明：compute函数：执行基本四则运算；precedence函数：定义运算符优先级\n",
    "\n",
    "主处理逻辑：处理数字时读取完整多位数字；处理运算符时比较优先级并执行相应运算\n",
    "\n",
    "测试用例：包含题目示例和其他边界情况"
   ]
  },
  {
   "cell_type": "code",
   "metadata": {},
   "source": [
    "# 表达式求值算法（借助AI）\n",
    "def evaluate_expression(expression: str) -> int:\n",
    "    \"\"\"计算数学表达式的值\"\"\"\n",
    "    \n",
    "    def compute(op: str, a: int, b: int) -> int:\n",
    "        \"\"\"执行基本运算\"\"\"\n",
    "        if op == '+': return a + b\n",
    "        if op == '-': return a - b\n",
    "        if op == '*': return a * b\n",
    "        if op == '/': return a // b\n",
    "        return 0\n",
    "    \n",
    "    def precedence(op: str) -> int:\n",
    "        \"\"\"返回运算符优先级\"\"\"\n",
    "        if op in ('*', '/'): return 2\n",
    "        if op in ('+', '-'): return 1\n",
    "        return 0\n",
    "    \n",
    "    # 移除所有空白字符\n",
    "    expr = expression.replace(\" \", \"\")\n",
    "    i = 0\n",
    "    n = len(expr)\n",
    "    operands = []\n",
    "    operators = []\n",
    "    \n",
    "    while i < n:\n",
    "        if expr[i].isdigit():\n",
    "            # 读取完整数字\n",
    "            num = 0\n",
    "            while i < n and expr[i].isdigit():\n",
    "                num = num * 10 + int(expr[i])\n",
    "                i += 1\n",
    "            operands.append(num)\n",
    "        else:\n",
    "            # 处理运算符\n",
    "            while (operators and \n",
    "                   precedence(operators[-1]) >= precedence(expr[i])):\n",
    "                # 执行栈顶运算\n",
    "                b = operands.pop()\n",
    "                a = operands.pop()\n",
    "                op = operators.pop()\n",
    "                operands.append(compute(op, a, b))\n",
    "            operators.append(expr[i])\n",
    "            i += 1\n",
    "    \n",
    "    # 处理剩余运算\n",
    "    while operators:\n",
    "        b = operands.pop()\n",
    "        a = operands.pop()\n",
    "        op = operators.pop()\n",
    "        operands.append(compute(op, a, b))\n",
    "    \n",
    "    return operands[0]\n",
    "\n",
    "# 测试用例\n",
    "print(evaluate_expression(\"3 + 5 * 8 - 6\"))  # 输出: 37\n",
    "print(evaluate_expression(\"34 + 13 * 9 + 44 - 12/3\"))  # 输出: 191\n",
    "print(evaluate_expression(\"1 + 2 * 3 + 4\"))  # 输出: 11\n",
    "print(evaluate_expression(\"10 * 5 - 3 * 2\"))  # 输出: 44\n",
    "print(evaluate_expression(\"100 / 10 / 2\"))  # 输出: 5\n",
    "# your algorithm time complexity is:O(n) "
   ],
   "outputs": [],
   "execution_count": null
  },
  {
   "cell_type": "markdown",
   "metadata": {},
   "source": [
    "## 问题 4:  \n",
    "\n",
    "> 星球碰撞问题：现有n个星球，在同一条直线上运行，如数组A所示，元素的绝对值表示星球的质量，负数表示星球自右向左运动，正数表示星球自左向右运动，当两个星球相撞的时候，质量小的会消失，大的保持不变，**质量相同的两个星球碰撞后自右向左运动的星球消失，自左向右的星球保持不变**，假设所有星球的速度大小相同。\n",
    ">\n",
    "> $ A=[23,-8, 9, -3, -7, 9, -23, 22] $\n",
    "\n",
    "请设计一个算法模拟星球的运行情况，输出最终的星球存续情况（输出一个数组），分析算法设计思路，计算时间复杂度，并基于python编程实现。\n",
    "\n",
    "e.g.\n",
    "---\n",
    "1.  输入： A=[-3,-6,2,8, 5,-8,9,-2,1]， 输出：[-3, -6, 2, 8, 9, 1]\n",
    "\n",
    "2. 输入：A=[23,-8, 9, -3, -7, 9, -23, 22], 输出：[23, 22]\n",
    "\n",
    "\n",
    "\n",
    "\n",
    "\n",
    "算法设计思路：使用一个栈来模拟星球的碰撞过程。\n",
    "\n",
    "遍历数组，对于每个星球：当栈为空或者当前星球向右运动（值为正）时，将当前星球入栈。\n",
    "\n",
    "当栈不为空且当前星球向左运动（值为负）时，比较栈顶星球和当前星球：\n",
    "\n",
    "若栈顶星球质量小于当前星球质量，弹出栈顶元素，继续与新的栈顶元素比较，直到栈为空或者栈顶星球质量大于当前星球质量。\n",
    "若栈顶星球质量等于当前星球质量，弹出栈顶元素，当前星球也消失（不做入栈操作）。\n",
    "若栈顶星球质量大于当前星球质量，当前星球消失（不做入栈操作）。"
   ]
  },
  {
   "metadata": {
    "ExecuteTime": {
     "end_time": "2025-05-06T14:43:05.353259Z",
     "start_time": "2025-05-06T14:43:05.335259Z"
    }
   },
   "cell_type": "code",
   "source": [
    "def planet_collision(planets):\n",
    "    surviving_planets = []  # 替代原来的stack\n",
    "    \n",
    "    for current_planet in planets:\n",
    "        # 处理向右运动的星球\n",
    "        if current_planet > 0:\n",
    "            surviving_planets.append(current_planet)\n",
    "            continue\n",
    "        \n",
    "        # 处理向左运动的星球及其可能的碰撞\n",
    "        collision_occurred = False\n",
    "        while surviving_planets and surviving_planets[-1] > 0:\n",
    "            right_moving_planet = surviving_planets[-1]\n",
    "            \n",
    "            if right_moving_planet < -current_planet:\n",
    "                surviving_planets.pop()  # 右侧星球被摧毁\n",
    "            elif right_moving_planet == -current_planet:\n",
    "                surviving_planets.pop()  # 两者质量相同，都摧毁\n",
    "                collision_occurred = True\n",
    "                break\n",
    "            else:\n",
    "                collision_occurred = True  # 当前星球被摧毁\n",
    "                break\n",
    "        \n",
    "        if not collision_occurred:\n",
    "            surviving_planets.append(current_planet)\n",
    "    \n",
    "    return surviving_planets\n",
    "\n",
    "A1 = [-3, -6, 2, 8, 5, -8, 9, -2, 1]\n",
    "A2 = [23, -8, 9, -3, -7, 9, -23, 22]\n",
    "\n",
    "print(planet_collision(A1)) \n",
    "print(planet_collision(A2))  "
   ],
   "outputs": [
    {
     "name": "stdout",
     "output_type": "stream",
     "text": [
      "[-3, -6, 2, 9, 1]\n",
      "[22]\n"
     ]
    }
   ],
   "execution_count": 11
  },
  {
   "cell_type": "markdown",
   "metadata": {},
   "source": [
    "## 问题 5 \n",
    "\n",
    "> 给定一个无序数组nums=[9,-3,-10,0,9,7,33]，请建立一个二叉搜索树存储数组中的所有元素，之后删除二叉树中的元素“0”，再使用中序遍历输出二叉搜索树中的所有元素。\n",
    "\n",
    "使用python编程完成上述任务，并计算时间复杂度\n"
   ]
  },
  {
   "cell_type": "code",
   "metadata": {
    "ExecuteTime": {
     "end_time": "2025-05-06T14:57:15.060673Z",
     "start_time": "2025-05-06T14:57:15.040665Z"
    }
   },
   "source": [
    "# add your idea here（借助AI）\n",
    "class BinarySearchTreeNode:\n",
    "    \"\"\"二叉搜索树节点类\"\"\"\n",
    "    def __init__(self, value):\n",
    "        self.value = value\n",
    "        self.left_child = None\n",
    "        self.right_child = None\n",
    "\n",
    "class BinarySearchTree:\n",
    "    \"\"\"二叉搜索树类\"\"\"\n",
    "    def __init__(self):\n",
    "        self.root = None\n",
    "    \n",
    "    def insert(self, value):\n",
    "        \"\"\"插入新节点\"\"\"\n",
    "        if not self.root:\n",
    "            self.root = BinarySearchTreeNode(value)\n",
    "        else:\n",
    "            self._insert_recursive(self.root, value)\n",
    "    \n",
    "    def _insert_recursive(self, current_node, value):\n",
    "        \"\"\"递归插入辅助方法\"\"\"\n",
    "        if value < current_node.value:\n",
    "            if current_node.left_child is None:\n",
    "                current_node.left_child = BinarySearchTreeNode(value)\n",
    "            else:\n",
    "                self._insert_recursive(current_node.left_child, value)\n",
    "        else:\n",
    "            if current_node.right_child is None:\n",
    "                current_node.right_child = BinarySearchTreeNode(value)\n",
    "            else:\n",
    "                self._insert_recursive(current_node.right_child, value)\n",
    "    \n",
    "    def delete(self, value):\n",
    "        \"\"\"删除指定值的节点\"\"\"\n",
    "        self.root = self._delete_recursive(self.root, value)\n",
    "    \n",
    "    def _delete_recursive(self, current_node, value):\n",
    "        \"\"\"递归删除辅助方法\"\"\"\n",
    "        if current_node is None:\n",
    "            return None\n",
    "        \n",
    "        if value < current_node.value:\n",
    "            current_node.left_child = self._delete_recursive(current_node.left_child, value)\n",
    "        elif value > current_node.value:\n",
    "            current_node.right_child = self._delete_recursive(current_node.right_child, value)\n",
    "        else:\n",
    "            # 找到要删除的节点\n",
    "            if current_node.left_child is None:\n",
    "                return current_node.right_child\n",
    "            elif current_node.right_child is None:\n",
    "                return current_node.left_child\n",
    "            else:\n",
    "                # 有两个子节点的情况\n",
    "                successor = self._find_min(current_node.right_child)\n",
    "                current_node.value = successor.value\n",
    "                current_node.right_child = self._delete_recursive(current_node.right_child, successor.value)\n",
    "        return current_node\n",
    "    \n",
    "    def _find_min(self, node):\n",
    "        \"\"\"找到子树中的最小节点\"\"\"\n",
    "        while node.left_child is not None:\n",
    "            node = node.left_child\n",
    "        return node\n",
    "    \n",
    "    def inorder_traversal(self):\n",
    "        \"\"\"中序遍历返回有序列表\"\"\"\n",
    "        result = []\n",
    "        self._inorder_recursive(self.root, result)\n",
    "        return result\n",
    "    \n",
    "    def _inorder_recursive(self, node, result):\n",
    "        \"\"\"递归中序遍历辅助方法\"\"\"\n",
    "        if node is not None:\n",
    "            self._inorder_recursive(node.left_child, result)\n",
    "            result.append(node.value)\n",
    "            self._inorder_recursive(node.right_child, result)\n",
    "\n",
    "# 主程序\n",
    "if __name__ == \"__main__\":\n",
    "    # 初始化数据\n",
    "    numbers = [9, -3, -10, 0, 9, 7, 33]\n",
    "    \n",
    "    # 构建BST\n",
    "    bst = BinarySearchTree()\n",
    "    for num in numbers:\n",
    "        bst.insert(num)\n",
    "    \n",
    "    # 删除节点0\n",
    "    bst.delete(0)\n",
    "    \n",
    "    # 中序遍历输出\n",
    "    sorted_result = bst.inorder_traversal()\n",
    "    print(\"中序遍历结果:\", sorted_result)  \n",
    "# your algorithm time complexity is:O(nlogn)"
   ],
   "outputs": [
    {
     "name": "stdout",
     "output_type": "stream",
     "text": [
      "中序遍历结果: [-10, -3, 7, 9, 9, 33]\n"
     ]
    }
   ],
   "execution_count": 15
  },
  {
   "cell_type": "markdown",
   "metadata": {},
   "source": [
    "## 问题 6  \n",
    "\n",
    "> 给定一个包含大写字母和小写字母的字符串 s ，返回 字符串包含的 **最长的回文子串的长度** 。请注意 区分大小写 。比如 \"Aa\" 不能当做一个回文字符串。\n",
    ">\n",
    "\n",
    "请设计一个算法解决上述问题，只需要输出最长回文子串的长度，分析算法设计思路，计算时间复杂度，并基于python编程实现\n",
    "\n",
    "e.g. 输入： s=\"adccaccd\"，  输出：7。 最长回文子串为：\"dccaccd\", 长度为7\n"
   ]
  },
  {
   "cell_type": "markdown",
   "metadata": {},
   "source": [
    "idea：为了找到给定字符串中的最长回文子串并返回其长度，采用动态规划算法。\n",
    "\n",
    "定义一个二维数组 dp，其中 dp[i][j] 表示字符串从索引 i 到 j 的子串是否为回文。我们初始化数组，使所有单个字符都是回文，即 dp[i][i] = True 对所有 i 成立。\n",
    "\n",
    "然后，通过遍历所有可能的子串长度，从长度为2开始，逐步增加，对于每个长度，我们再次遍历所有可能的起始位置 i，计算结束位置 j = i + length - 1。\n",
    "\n",
    "对于每个子串，如果首尾字符相同且去掉首尾后的子串也是回文（即 dp[i+1][j-1] 为 True），则该子串是回文，我们将 dp[i][j] 设置为 True。在填充 dp 表的过程中，我们记录遇到的最大回文子串长度和起始位置。最后，我们根据记录的起始位置和长度从原始字符串中提取最长回文子串。"
   ]
  },
  {
   "cell_type": "code",
   "metadata": {
    "ExecuteTime": {
     "end_time": "2025-05-06T14:50:19.622604Z",
     "start_time": "2025-05-06T14:50:19.602608Z"
    }
   },
   "source": [
    "# add your idea here\n",
    "def longest_palindrome(s: str) -> (str, int):\n",
    "    n = len(s)\n",
    "    if n < 2:\n",
    "        return s, n\n",
    "\n",
    "    # 初始化dp数组，dp[i][j]表示s[i:j+1]是否为回文\n",
    "    dp = [[False] * n for _ in range(n)]\n",
    "    max_length = 1\n",
    "    start = 0  # 记录最长回文子串的起始位置\n",
    "\n",
    "    # 单个字符总是回文\n",
    "    for i in range(n):\n",
    "        dp[i][i] = True\n",
    "\n",
    "    # 填充dp数组\n",
    "    for length in range(2, n + 1):  # 子串长度\n",
    "        for i in range(n - length + 1):  # 子串起始位置\n",
    "            j = i + length - 1  # 子串结束位置\n",
    "            if s[i] == s[j] and (length == 2 or dp[i + 1][j - 1]):\n",
    "                dp[i][j] = True\n",
    "                if length > max_length:\n",
    "                    max_length = length\n",
    "                    start = i  # 更新最长回文子串的起始位置\n",
    "\n",
    "    # 提取最长回文子串\n",
    "    longest_palindrome_substring = s[start:start + max_length]\n",
    "\n",
    "    # 返回最长回文子串及其长度\n",
    "    return longest_palindrome_substring, max_length\n",
    "\n",
    "# 示例\n",
    "s = \"adccaccd\"\n",
    "palindrome_substring, length = longest_palindrome(s)\n",
    "print(f\"最长回文子串为：\\\"{palindrome_substring}\\\", 长度为{length}\")\n",
    "# your algorithm time complexity is:O(n^2)\n"
   ],
   "outputs": [
    {
     "name": "stdout",
     "output_type": "stream",
     "text": [
      "最长回文子串为：\"dccaccd\", 长度为7\n"
     ]
    }
   ],
   "execution_count": 14
  },
  {
   "cell_type": "markdown",
   "metadata": {},
   "source": [
    "## 问题 7 \n",
    "\n",
    "> 沿一条长河流分散着n座房子。你可以把这条河想象成一条轴，房子是由它们在这条轴上的坐标按顺序排列的。你的公司想在河边的特定地点设置手机基站，这样每户人家都在距离基站4公里的范围内。输入可以看作为一个升序数组，数组元素的取值为大于等于0的正整数，你需要输出最小基站的数目，基站的位置。\n",
    "\n",
    "1. 给出一个时间复杂度为$O(n$) 的算法，使所使用的基站数量最小化，分析算法设计思路，使用python编程实现\n",
    "2. 证明1.中算法产生了最优解决方案。\n",
    "\n",
    "e.g. \n",
    "\n",
    "输入： [1, 5, 12, 33, 34,35]  输出：基站数目为3， 基站位置为[1，12，33]\n",
    "\n"
   ]
  },
  {
   "cell_type": "markdown",
   "metadata": {},
   "source": [
    "idea：第一题：算法设计思路采用贪心算法；\n",
    "\n",
    "从第一座房子开始，第一个基站应该尽可能覆盖更多的房子。具体来说，第一个基站可以放在第一座房子右侧4公里的位置，这样它能够覆盖所有距离第一座房子不超过4公里的房子。\n",
    "\n",
    "然后，找到第一个无法被当前基站覆盖的房子，然后在这个房子右侧4公里的位置放置下一个基站。重复这个过程直到所有房子都被覆盖。\n",
    "\n",
    "最后，当所有房子都被覆盖时，算法结束。这种方法确保每个基站覆盖尽可能多的房子，从而最小化基站总数。\n",
    "\n",
    "第二题：为了证明上述贪心算法能够产生最优解决方案，即使用最少数量的基站覆盖所有房子。采用了贪心算法的两个关键性质：贪心选择性质和最优子结构。\n",
    "\n",
    "贪心选择性质指的是，通过每一步的局部最优选择（即在当前未被覆盖的最左侧房子处放置基站，并尽可能覆盖更多的房子），能够达到全局最优解。每次选择当前未被覆盖的最左侧房子hi，并在hi处放置基站。这样，该基站可以覆盖所有位于 [hi,hi+4]范围内的房子。\n",
    "\n",
    "使得覆盖范围最大化：因为hi是当前未被覆盖的最左侧房子，所以在hi处放置基站可以确保覆盖尽可能多的右侧房子（直到hi+4。如果选择在更右侧放置基站，可能会导致hi无法被覆盖；如果选择在更左侧放置基站，可能会浪费覆盖范围。因此，贪心选择性质保证了每一步的选择都是当前最优的。\n",
    "\n",
    "最优子结构指的是，问题的最优解包含其子问题的最优解。在放置一个基站后，剩余未被覆盖的房子构成一个新的子问题。对剩余的房子继续采用贪心策略（即在新的最左侧未被覆盖的房子处放置基站），可以得到子问题的最优解。由于每一步都选择了局部最优解，且子问题的最优解能够组合成全局最优解，因此整个问题的最优解可以通过贪心算法得到。\n",
    "\n",
    "\n"
   ]
  },
  {
   "cell_type": "code",
   "metadata": {
    "ExecuteTime": {
     "end_time": "2025-05-07T01:07:41.174980Z",
     "start_time": "2025-05-07T01:07:41.162980Z"
    }
   },
   "source": [
    "# add your idea here\n",
    "def find_min_base_stations(house_list):\n",
    "    if not house_list:\n",
    "        return 0, []\n",
    "\n",
    "    base_stations = []\n",
    "    n = len(house_list)\n",
    "    i = 0\n",
    "\n",
    "    while i < n:\n",
    "        # 当前基站的位置是当前房子\n",
    "        station_position = house_list[i]\n",
    "        base_stations.append(station_position)\n",
    "\n",
    "        # 跳过所有被当前基站覆盖的房子\n",
    "        while i < n and house_list[i] <= station_position + 4:\n",
    "            i += 1\n",
    "\n",
    "    return len(base_stations), base_stations\n",
    "\n",
    "# example\n",
    "house_list = [1, 5, 12, 33, 34, 35]\n",
    "num_stations, stations = find_min_base_stations(house_list)\n",
    "print(f\"基站数目为{num_stations}，基站位置为{stations}\")\n",
    "# your algorithm time complexity is:O(n)"
   ],
   "outputs": [
    {
     "name": "stdout",
     "output_type": "stream",
     "text": [
      "基站数目为3，基站位置为[1, 12, 33]\n"
     ]
    }
   ],
   "execution_count": 22
  },
  {
   "cell_type": "markdown",
   "metadata": {},
   "source": [
    "## 问题 8  \n",
    "\n",
    "> 给定由n个正整数组成的一个集合$S = \\{a_1, a_2，···，a_n\\}$和一个正整数W，设计一个算法确定是否存在S的一个子集 $K \\subseteq S$, 使K中所有数之和为 $W$, 如果存在返回“True”，否则返回“False”\n",
    "\n",
    "请设计一个时间复杂度为$O(nW)$动态规划算法，解决上述问题，分析算法的设计思路，并且基于python编程实现（不需要输出子集）。\n",
    "\n",
    "e.g. \n",
    "\n",
    "输入：S = {1,4,7,3,5}， W = 11，输出：True。   因为K可以是{4,7}。\n",
    "\n"
   ]
  },
  {
   "cell_type": "markdown",
   "metadata": {},
   "source": [
    "算法设计思路：选择动态规划算法来解决这个问题，因为子集和问题具有重叠子问题和最优子结构的特性。\n",
    "\n",
    "进行状态定义 dp[i][j] 为布尔值，表示前 i 个物品是否有和为j的子集。\n",
    "\n",
    "初始化一个大小为 (n+1) x (target+1) 的二维数组 dp，其中 n 是物品的数量。dp[i][0] 初始化为 True，因为和为0的子集总是存在的（即选择空集）。\n",
    "\n",
    "对于每个物品 i和每个可能的和 j，状态转移方程如下：\n",
    "- 如果 items[i-1] 小于或等于j，则 dp[i][j] = dp[i-1][j] or dp[i-1][j-items[i-1]]。这表示当前物品可以被选择或不被选择。\n",
    "- 如果 items[i-1] 大于 j，则 dp[i][j] = dp[i-1][j]。这表示当前物品不能被选择，因为选择它会导致和超过 j。\n",
    "\n",
    "最终结果存储在 dp[n][target] 中，其中 n是物品的数量，target是目标和。"
   ]
  },
  {
   "cell_type": "code",
   "metadata": {
    "ExecuteTime": {
     "end_time": "2025-05-07T01:41:52.382257Z",
     "start_time": "2025-05-07T01:41:52.359280Z"
    }
   },
   "source": [
    "# add your idea here\n",
    "def subset_sum(items, target):\n",
    "    n = len(items)  # 获取物品的数量\n",
    "    dp = [[False] * (target + 1) for _ in range(n + 1)]  # 初始化动态规划表\n",
    "    \n",
    "    # 初始化：和为0总是可以的（即选择空集）\n",
    "    for i in range(n + 1):\n",
    "        dp[i][0] = True\n",
    "    \n",
    "    for i in range(1, n + 1):\n",
    "        for t in range(1, target + 1):\n",
    "            if items[i - 1] <= t:  # 如果当前物品的重量不超过目标重量\n",
    "                dp[i][t] = dp[i - 1][t] or dp[i - 1][t - items[i - 1]]  # 选择包含或不包含当前物品\n",
    "            else:\n",
    "                dp[i][t] = dp[i - 1][t]  # 如果当前物品的重量超过目标重量，则不包含它\n",
    "    \n",
    "    # 返回是否存在和为目标值的子集\n",
    "    return dp[n][target]\n",
    "\n",
    "# example\n",
    "weights = [1, 4, 7, 3, 5]\n",
    "total = 11\n",
    "print(subset_sum(weights, total))  # 输出：True\n",
    "# your algorithm time complexity is: O(nW)"
   ],
   "outputs": [
    {
     "name": "stdout",
     "output_type": "stream",
     "text": [
      "True\n"
     ]
    }
   ],
   "execution_count": 23
  },
  {
   "cell_type": "markdown",
   "metadata": {},
   "source": [
    "\n",
    "\n",
    "## 问题 9 \n",
    "\n",
    "> 给定一个n个物品的集合。物体的重量为$w_1, w_2，…、w_n$，物品的价值分别是$v_1、v_2、…v_n$。给你**两个**重量为 $c$ 的背包。如果你带了一个东西，它可以放在一个背包里，也可以放在另一个背包里，但不能同时放在两个背包里。所有权重和价值都是正整数。\n",
    "\n",
    "1. 设计一个时间复杂度为 $O(nc^2)$ 的动态规划算法，确定可以放入两个背包的物体的最大价值。分析算法设计思路，并基于python编程实现\n",
    "2. \\* 修改1中的算法，输出每个背包的内容（物品对应下标）。\n",
    "\n",
    "e.g.: \n",
    "\n",
    "输入 V=[1,3,2,5,8,7], W=[1,3,2,5,8,7], c=7, 输出：最大价值=14，背包装的物品为：[6] [4，3] （同一个背包中物品装入顺序对结果无影响）  \n"
   ]
  },
  {
   "cell_type": "markdown",
   "metadata": {},
   "source": [
    "idea：用三维数组dp[i][j][k]记录前i个物品在背包1剩余j容量、背包2剩余k容量时的最大价值\n",
    "\n",
    "每个物品有三种处理：\n",
    "\n",
    "不选：继承dp[i-1][j][k]\n",
    "\n",
    "放背包1：当j≥物品重量时，dp[i-1][j-w][k]+v\n",
    "\n",
    "放背包2：当k≥物品重量时，dp[i-1][j][k-w]+v\n",
    "\n",
    "最终结果：dp[n][c][c]即为最大价值"
   ]
  },
  {
   "cell_type": "code",
   "metadata": {
    "ExecuteTime": {
     "end_time": "2025-05-07T02:28:41.796291Z",
     "start_time": "2025-05-07T02:28:41.773296Z"
    }
   },
   "source": [
    "# 双背包问题动态规划算法\n",
    "\n",
    "def solve_dual_knapsack(V, W, c):\n",
    "    n = len(V)\n",
    "    # 初始化三维 DP 表：f[i][j][k] 表示前 i 个物品，背包1容量 j，背包2容量 k 时的最大价值\n",
    "    f = [[[0] * (c + 1) for _ in range(c + 1)] for _ in range(n + 1)]\n",
    "\n",
    "    # 路径记录：trace[i][j][k] 记录对应物品分配方案 (bag1, bag2)\n",
    "    trace = [[[([], []) for _ in range(c + 1)] for _ in range(c + 1)] for _ in range(n + 1)]\n",
    "\n",
    "    for i in range(1, n + 1):\n",
    "        val, wt = V[i - 1], W[i - 1]  # 当前物品的价值和重量\n",
    "        for j in range(c + 1):       # 背包1容量\n",
    "            for k in range(c + 1):   # 背包2容量\n",
    "                # 默认不选当前物品\n",
    "                f[i][j][k] = f[i - 1][j][k]\n",
    "                trace[i][j][k] = trace[i - 1][j][k]\n",
    "\n",
    "                # 尝试放入背包1\n",
    "                if j >= wt:\n",
    "                    new_val = f[i - 1][j - wt][k] + val\n",
    "                    if new_val > f[i][j][k]:\n",
    "                        f[i][j][k] = new_val\n",
    "                        trace[i][j][k] = (\n",
    "                            trace[i - 1][j - wt][k][0] + [i],  # 背包1添加当前物品\n",
    "                            trace[i - 1][j - wt][k][1]\n",
    "                        )\n",
    "\n",
    "                # 尝试放入背包2\n",
    "                if k >= wt:\n",
    "                    new_val = f[i - 1][j][k - wt] + val\n",
    "                    if new_val > f[i][j][k]:\n",
    "                        f[i][j][k] = new_val\n",
    "                        trace[i][j][k] = (\n",
    "                            trace[i - 1][j][k - wt][0],\n",
    "                            trace[i - 1][j][k - wt][1] + [i]  # 背包2添加当前物品\n",
    "                        )\n",
    "\n",
    "    # 提取最终最优值和路径\n",
    "    max_val = f[n][c][c]\n",
    "    bag1, bag2 = trace[n][c][c]\n",
    "\n",
    "    # 输出格式处理（背包1升序，背包2降序）\n",
    "    bag1.sort()\n",
    "    bag2.sort(reverse=True)\n",
    "\n",
    "    return max_val, bag1, bag2\n",
    "\n",
    "# example\n",
    "V = [1, 3, 2, 5, 8, 7]\n",
    "W = [1, 3, 2, 5, 8, 7]\n",
    "c = 7\n",
    "\n",
    "max_val, bag1, bag2 = solve_dual_knapsack(V, W, c)\n",
    "print(f\"最大价值={max_val}，背包装的物品为：{bag1} {bag2}\")\n",
    "\n",
    "# your algorithm time complexity is: O(nc^2)"
   ],
   "outputs": [
    {
     "name": "stdout",
     "output_type": "stream",
     "text": [
      "最大价值=14，背包装的物品为：[6] [4, 3]\n"
     ]
    }
   ],
   "execution_count": 25
  },
  {
   "cell_type": "markdown",
   "metadata": {},
   "source": [
    "## 问题 10 \n",
    "\n",
    "> 给定两个字符串 $x[1..n]$ 和 $y[1..m]$，我们想通过以下操作将 $x$ 变换为 $y$ :\n",
    ">\n",
    "> **插入**：在 $x$ 中插入一个字符(在任何位置)；**删除**：从 $x$ 中删除一个字符(在任何位置)； **替换**：用另一个字符替换 $x$ 中的一个字符。\n",
    ">\n",
    "> 例如: $x = abcd$, $y = bcfe$，\n",
    ">\n",
    "> - 将 $x$ 转换为 $y$ 的一种可能方法是：1. 删除 $x$ 开头的 $a$, $x$变成 $bcd$； 2. 将 $x$ 中的字符 $d$ 替换为字符 $f$。$x$ 变成 $bcf$； 3. 在 $x$ 的末尾插入字符 $e$。$x$ 变成 $bcfe$。\n",
    ">\n",
    "> - 另一种可能的方法：1. 删除 $x$ 开头的 $a$,  $x$ 变成 $bcd$； 2. 在 $x$ 中字符 $d$ 之前插入字符 $f$。$x$ 变成 $bcfd$。3. 将 $x$ 中的字符 $d$ 替换为字符 $e$。$x$ 变成 $bcfe$。\n",
    "\n",
    "设计一个时间复杂度为 $O(mn)$ 的算法，返回将 $x$ 转换为 $y$ 所需的最少操作次数。分析算法设计思路，并基于python编程实现。\n"
   ]
  },
  {
   "cell_type": "markdown",
   "metadata": {},
   "source": [
    "idea：使用动态规划计算两个字符串之间的最小编辑操作次数，通过交替使用两行数组来计算最小操作次数。\n",
    "\n",
    "首先建表：行对应x字符，列对应y字符；初始化首行首列（全插入/全删除的情况）；填表规则：字符相同：取左上值；字符不同：取左、上、左上最小\n",
    "\n",
    "值加1；右下角的值即为答案\n",
    "\n",
    "使用两个一维数组替代二维数组：prev_row：保存上一行的计算结果；curr_row：计算当前行的值\n",
    "\n",
    "初始化prev_row为[0,1,2,...,n]，对于每个字符x[i-1]：设置curr_row[0] = i，计算curr_row[1...n]的值\n",
    "\n",
    "将curr_row赋值给prev_row继续下一轮计算"
   ]
  },
  {
   "cell_type": "code",
   "metadata": {
    "ExecuteTime": {
     "end_time": "2025-05-08T07:21:29.519434Z",
     "start_time": "2025-05-08T07:21:29.496217Z"
    }
   },
   "source": [
    "# 编辑距离算法设计思路\n",
    "def edit_distance(x, y):\n",
    "    len_x, len_y = len(x), len(y)\n",
    "    \n",
    "    # 初始化当前行和前一行\n",
    "    prev_row = [j for j in range(len_y + 1)]\n",
    "    curr_row = [0] * (len_y + 1)\n",
    "    \n",
    "    for i in range(1, len_x + 1):\n",
    "        curr_row[0] = i  # 删除操作\n",
    "        \n",
    "        for j in range(1, len_y + 1):\n",
    "            if x[i-1] == y[j-1]:\n",
    "                curr_row[j] = prev_row[j-1]\n",
    "            else:\n",
    "                curr_row[j] = 1 + min(\n",
    "                    curr_row[j-1],   # 插入\n",
    "                    prev_row[j],     # 删除\n",
    "                    prev_row[j-1]    # 替换\n",
    "                )\n",
    "        \n",
    "        # 更新行\n",
    "        prev_row, curr_row = curr_row, [0] * (len_y + 1)\n",
    "    \n",
    "    return prev_row[len_y]\n",
    "\n",
    "# 测试示例\n",
    "x = \"abcd\"\n",
    "y = \"bcfe\"\n",
    "print(f\"将 '{x}' 转换为 '{y}' 的最小编辑距离为: {edit_distance(x, y)}\")\n",
    "# your algorithm time complexity is: O(mn)"
   ],
   "outputs": [
    {
     "name": "stdout",
     "output_type": "stream",
     "text": [
      "将 'abcd' 转换为 'bcfe' 的最小编辑距离为: 3\n"
     ]
    }
   ],
   "execution_count": 26
  }
 ],
 "metadata": {
  "language_info": {
   "name": "python"
  },
  "kernelspec": {
   "name": "python3",
   "language": "python",
   "display_name": "Python 3 (ipykernel)"
  }
 },
 "nbformat": 4,
 "nbformat_minor": 2
}
