{
 "cells": [
  {
   "cell_type": "markdown",
   "metadata": {},
   "source": [
    "## algorithm design and anlysis-2025 spring  homework 3\n",
    "**Deadline**：2025.5.14\n",
    "\n",
    "**name**:邓方婷\n",
    "\n",
    "\n",
    "note：\n",
    "---\n",
    "1. 带有\\*的题目，申请免上课的同学，必须完成，其他同学选作；\n",
    "2. 请独立完成，如求助了他人或者大模型，请著明，并且不可省略算法分析部分；\n",
    "4. 如若作答有雷同，全部取消成绩；\n",
    "3. 需要书面作答的题目，可以通过引用图片的形式添加，但是注意上传项目时包含所引用的图片的源文件；\n",
    "4. $log_n$ 默认表示$log_2{n}$;"
   ]
  },
  {
   "cell_type": "markdown",
   "metadata": {},
   "source": [
    "## 问题 1  \n",
    "\n",
    "请证明基于比较的排序算法计算复杂度下界为$\\Omega(nlogn)$"
   ]
  },
  {
   "cell_type": "markdown",
   "metadata": {},
   "source": [
    "you can refer a handwritten picture, pleas upload the picture in /fig/xxx.png\n",
    "answer：\n",
    "![figure](./fig/hw3q1.jpg)"
   ]
  },
  {
   "cell_type": "markdown",
   "metadata": {},
   "source": [
    "## 问题 2 \n",
    "\n",
    "构建二叉搜索树\n",
    "\n",
    "> 1. 给定一个数组 [48, 33, 49, 47, 42, 46, 32], 构建一个二叉搜索树存储这些数据，请**绘制**所构建的**二叉搜索树**（标明结点的值）。\n",
    "> 2. 从第1问的二叉搜索树中删除33，请**绘制**删除33后的**二叉搜索树**（标明结点的值）\n",
    "\n",
    "- 推荐使用graphviz包绘制树的结构"
   ]
  },
  {
   "cell_type": "markdown",
   "metadata": {},
   "source": [
    "you can refer a handwritten picture, pleas upload the picture in /fig/xxx.png\n",
    "answer：![figure](./fig/hw3q2(1).png)\n",
    "\n",
    "![figure](./fig/hw3q2(2).png)"
   ]
  },
  {
   "cell_type": "markdown",
   "metadata": {},
   "source": [
    "## 问题 3 \n",
    "\n",
    "> 下面是九门课程的开始和结束时间:\n",
    ">\n",
    "> [(9:00,12:30), (11:00,14:00), (13:00, 14:30), (9:00,10:30),(13:00, 14:30),(14:00,16:30), (15:00,16:30), (15:00,16:30), (9:00,10:30)]\n",
    ">\n",
    "> 请使用贪婪算法为这九门课分配教室，要求在同一天内安排这些课，并且每个教室同一时间只能安排一门课。\n",
    "\n",
    "**请问最少需要几间教室，罗列出每个教室安排的课程**"
   ]
  },
  {
   "cell_type": "markdown",
   "metadata": {},
   "source": [
    "idea：将所有课程按照开始时间升序排序（按开始时间排序所有课程）\n",
    "\n",
    "使用最小堆维护各教室的最晚结束时间；\n",
    "\n",
    "对于每个课程：检查堆顶教室（结束时间最早的）是否可用\n",
    "\n",
    "若当前课程开始时间 ≥ 堆顶教室结束时间，则复用该教室\n",
    "\n",
    "否则需要新增教室，将当前课程的结束时间加入堆中\n",
    "\n",
    "堆的最终大小即为所需最少教室数量"
   ]
  },
  {
   "cell_type": "code",
   "metadata": {
    "vscode": {
     "languageId": "plaintext"
    },
    "ExecuteTime": {
     "end_time": "2025-05-09T09:28:05.407081Z",
     "start_time": "2025-05-09T09:28:05.398564Z"
    }
   },
   "source": [
    "#区间分组问题\n",
    "import heapq\n",
    "\n",
    "def classrooms(courses):\n",
    "    if not courses:\n",
    "        return 0\n",
    "    \n",
    "    # 按开始时间排序\n",
    "    courses.sort()\n",
    "    \n",
    "    # 最小堆存储各教室的最晚结束时间\n",
    "    classroom_heap = []\n",
    "    \n",
    "    for start, end in courses:\n",
    "        # 检查最早可用的教室\n",
    "        if classroom_heap and classroom_heap[0] <= start:\n",
    "            # 复用教室并更新其结束时间\n",
    "            heapq.heappop(classroom_heap)\n",
    "        # 将当前课程加入教室安排\n",
    "        heapq.heappush(classroom_heap, end)\n",
    "    \n",
    "    return len(classroom_heap)\n",
    "\n",
    "# 课程时间列表（转换为分钟数方便排序）\n",
    "course_schedule = [\n",
    "    (9*60, 12*60+30),   # 9:00-12:30\n",
    "    (11*60, 14*60),      # 11:00-14:00\n",
    "    (13*60, 14*60+30),   # 13:00-14:30\n",
    "    (9*60, 10*60+30),    # 9:00-10:30\n",
    "    (13*60, 14*60+30),   # 重复课程\n",
    "    (14*60, 16*60+30),   # 14:00-16:30\n",
    "    (15*60, 16*60+30),   # 15:00-16:30\n",
    "    (15*60, 16*60+30),   # 重复课程\n",
    "    (9*60, 10*60+30)     # 重复课程\n",
    "]\n",
    "\n",
    "min_classrooms = classrooms(course_schedule)\n",
    "print(f\"最少需要教室数量：{min_classrooms}\")"
   ],
   "outputs": [
    {
     "name": "stdout",
     "output_type": "stream",
     "text": [
      "最少需要教室数量：3\n"
     ]
    }
   ],
   "execution_count": 35
  },
  {
   "cell_type": "markdown",
   "metadata": {},
   "source": [
    "## 问题 4 \n",
    "\n",
    "> 爬楼梯问题：假设爬楼梯时你每次只能爬一阶或者爬两阶，问爬上n阶的楼梯，你一共有多少种方法\n",
    "\n",
    "请设计算法完成该问题，分析算法设计思路，计算时间复杂度，并基于python编程实现"
   ]
  },
  {
   "cell_type": "markdown",
   "metadata": {},
   "source": [
    "idea：爬楼梯问题的本质是每次走1阶或2阶，求n阶楼梯的走法总数，实际是斐波那契数列问题。\n",
    "\n",
    "走到第n阶的方法 = 走到第(n-1)阶的方法（最后一步走1阶） + 走到第(n-2)阶的方法（最后一步走2阶）\n",
    "\n",
    "即：f(n) = f(n-1) + f(n-2)\n",
    "\n",
    "边界条件：f(0) = 1（地面算1种走法）\n",
    "\n",
    "f(1) = 1（1阶只有1种走法）\n",
    "\n",
    "采用基础动态规划法：该问题具有最优子结构性质，适合用动态规划解决；\n",
    "\n",
    "计算顺序：从 i=2 开始逐步计算到 i=n。用数组存储所有中间结果\n",
    "\n"
   ]
  },
  {
   "cell_type": "code",
   "metadata": {
    "ExecuteTime": {
     "end_time": "2025-05-08T09:12:08.594351Z",
     "start_time": "2025-05-08T09:12:08.574328Z"
    }
   },
   "source": [
    "# method\n",
    "def climb_stairs_dp(n):\n",
    "    if n == 0 or n == 1:\n",
    "        return 1\n",
    "    dp = [0] * (n + 1)\n",
    "    dp[0], dp[1] = 1, 1\n",
    "    for i in range(2, n + 1):\n",
    "        dp[i] = dp[i - 1] + dp[i - 2]\n",
    "    return dp[n]\n",
    "\n",
    "# example\n",
    "n = 6\n",
    "print(f\"爬 {n} 阶楼梯的方法数（动态规划）：{climb_stairs_dp(n)}\")  # 输出：13\n",
    "# your algorithm time complexity is: O(n)"
   ],
   "outputs": [
    {
     "name": "stdout",
     "output_type": "stream",
     "text": [
      "爬 6 阶楼梯的方法数（动态规划）：13\n"
     ]
    }
   ],
   "execution_count": 10
  },
  {
   "cell_type": "markdown",
   "metadata": {},
   "source": [
    "  ## 问题 5 \n",
    "\n",
    "> 0-1背包问题：现在有4块大理石，每个大理石对应的重量和价值使用一个元组表示, 即（重量，价值），4块大理石的重量和价值为：[(5,10), (4,40), (6,30), (3, 50)], 假设你有一辆最大承重为9的小推车，请问使用这个小推车装大理石的最大价值为多少\n",
    "\n",
    "请设计一个算法解决该问题，分析算法设计思路，计算时间复杂度，并基于python编程实现"
   ]
  },
  {
   "cell_type": "markdown",
   "metadata": {},
   "source": [
    "idea：0 - 1 背包问题要在固定容量背包里选物品使总价值最大，且物品只能选或不选。用动态规划把大问题拆成小问题求解，避免重复计算。\n",
    "\n",
    "对于每一个物品，我们都有两种选择。\n",
    "\n",
    "不放入物品：如果不把这个物品放入背包，那么当前能获得的最大价值就和不考虑这个物品时一样。\n",
    "放入物品：前提是背包还有足够的容量来装这个物品。放入后，能获得的最大价值等于不考虑这个物品且背包剩余容量时的最大价值加上这个物品的价值。我们会在这两种情况中选择能让价值更大的那个作为当前状态下的最大价值。\n",
    "\n",
    "时间复杂度：O(nW)，n是物品数，W是背包容量。"
   ]
  },
  {
   "cell_type": "code",
   "metadata": {
    "ExecuteTime": {
     "end_time": "2025-05-09T09:28:56.901048Z",
     "start_time": "2025-05-09T09:28:56.892543Z"
    }
   },
   "source": [
    "# add your code here\n",
    "def maximize_value(weights, profits, max_capacity):\n",
    "    n = len(weights)\n",
    "    # 创建一个一维数组 dp 来存储子问题的解\n",
    "    dp = [0] * (max_capacity + 1)\n",
    "\n",
    "    # 填充 dp 数组\n",
    "    for i in range(1, n + 1):\n",
    "        for w in range(max_capacity, 0, -1):\n",
    "            if weights[i - 1] <= w:\n",
    "                # 选择放入或不放入当前物品，取价值最大的情况\n",
    "                dp[w] = max(profits[i - 1] + dp[w - weights[i - 1]], dp[w])\n",
    "            # 当前物品重量超过当前背包容量，不能放入，直接跳过\n",
    "\n",
    "    return dp[max_capacity]\n",
    "\n",
    "\n",
    "# 物品的重量列表\n",
    "weights = [5, 4, 6, 3]\n",
    "# 物品的价值列表\n",
    "profits = [10, 40, 30, 50]\n",
    "# 背包的容量\n",
    "max_capacity = 9\n",
    "\n",
    "# 调用函数求解最大价值\n",
    "max_value = maximize_value(weights, profits, max_capacity)\n",
    "print(\"背包能装下的最大价值为:\", max_value)\n",
    "# your algorithm time complexity is:O(nW)"
   ],
   "outputs": [
    {
     "name": "stdout",
     "output_type": "stream",
     "text": [
      "背包能装下的最大价值为: 90\n"
     ]
    }
   ],
   "execution_count": 36
  },
  {
   "cell_type": "markdown",
   "metadata": {},
   "source": [
    "## 问题 6 \n",
    "给定 `n` 个非负整数表示每个宽度为 `1` 的柱子的高度图，计算按此排列的柱子，下雨之后能接多少雨水。\n",
    "\n",
    "\n",
    "\n",
    "<div style=\"text-align:center;width:800px;\"> <img alt=\"\" src=\"./fig/hw3q6.png\"> </div>\n",
    "\n",
    "请分析算法设计思路，计算时间复杂度，并基于python编程实现"
   ]
  },
  {
   "cell_type": "markdown",
   "metadata": {},
   "source": [
    "idea：可以通过动态规划来解决。算法的基本思路是从两边向中间遍历，计算每个位置能够接住的雨水量。\n",
    "\n",
    "1、初始化：\n",
    "创建两个数组 left 和 right 来分别存储每个位置左侧和右侧的最大高度。\n",
    "创建一个数组 water 来存储每个位置可以接的雨水量。\n",
    "\n",
    "2、计算左侧最大高度：\n",
    "从左到右遍历 heights 数组，更新 left 数组，使得 left[i] 存储到第 i 个位置为止左侧的最大高度。\n",
    "计算右侧最大高度：\n",
    "\n",
    "3、从右到左遍历 heights 数组，更新 right 数组，使得 right[i] 存储到第 i 个位置为止右侧的最大高度。\n",
    "计算雨水量：\n",
    "\n",
    "4、遍历 heights 数组，对于每个位置 i，计算该位置可以接的雨水量为 min(left[i], right[i]) - heights[i]。\n",
    "如果计算结果为负，则该位置不能接雨水，water[i] 保持为0。\n",
    "\n",
    "5、计算总雨水量：\n",
    "遍历 water 数组，将所有位置的雨水量相加，得到总雨水量。\n",
    "\n",
    "该算法的时间复杂度为 O(n)，其中 n 是输入数组的长度。这是因为我们只需要遍历一次数组。"
   ]
  },
  {
   "cell_type": "code",
   "metadata": {
    "ExecuteTime": {
     "end_time": "2025-05-09T09:32:14.554889Z",
     "start_time": "2025-05-09T09:32:14.530482Z"
    }
   },
   "source": [
    "# 接雨水问题\n",
    "def trap_rainwater(heights):\n",
    "    if not heights or len(heights) < 3:\n",
    "        return 0\n",
    "    \n",
    "    n = len(heights)\n",
    "    left = [0] * n\n",
    "    right = [0] * n\n",
    "    water = [0] * n\n",
    "    \n",
    "    # 初始化左侧最大高度数组\n",
    "    left[0] = heights[0]\n",
    "    for i in range(1, n):\n",
    "        left[i] = max(left[i - 1], heights[i])\n",
    "    \n",
    "    # 初始化右侧最大高度数组\n",
    "    right[n - 1] = heights[n - 1]\n",
    "    for i in range(n - 2, -1, -1):\n",
    "        right[i] = max(right[i + 1], heights[i])\n",
    "    \n",
    "    # 计算每个位置的雨水量\n",
    "    for i in range(1, n - 1):\n",
    "        water[i] = min(left[i], right[i]) - heights[i]\n",
    "        water[i] = max(water[i], 0)\n",
    "    \n",
    "    # 计算总雨水量\n",
    "    return sum(water)\n",
    "\n",
    "# 示例 1\n",
    "heights1 = [0,1,0,2,1,0,1,3,2,1,2,1]\n",
    "print(\"example 1 output:\", trap_rainwater(heights1))  \n",
    "\n",
    "# 示例 2\n",
    "heights2 = [4,2,0,3,2,5]\n",
    "print(\"example 2 output:\", trap_rainwater(heights2))  \n",
    "# your algorithm time complexity is:O(n)"
   ],
   "outputs": [
    {
     "name": "stdout",
     "output_type": "stream",
     "text": [
      "example 1 output: 6\n",
      "example 2 output: 9\n"
     ]
    }
   ],
   "execution_count": 37
  },
  {
   "cell_type": "markdown",
   "metadata": {},
   "source": [
    "## 问题 7 \n",
    "\n",
    "**股票投资组合优化**： 假设你是一位投资者，想要在不同的股票中分配你的资金，以最大化你的投资回报。每只股票都有不同的预期收益率和风险。你的目标是选择一些股票，使得总投资金额不超过你的预算，并且预期收益最大化。\n",
    "\n",
    "在这个情况下，你可以将每只股票视为一个“物品”，其重量为投资金额，价值为预期收益率。然后，你可以使用分级背包问题的方法来选择部分股票，以便在预算内获得最大的预期收益。\n",
    "\n",
    "以下是一个简化的例子：\n",
    "\n",
    "假设你有以下三只股票可供选择：\n",
    "\n",
    "1. 股票 A：投资金额 5000 美元，预期收益率 10%\n",
    "2. 股票 B：投资金额 3000 美元，预期收益率 8%\n",
    "3. 股票 C：投资金额 2000 美元，预期收益率 12%\n",
    "\n",
    "请设计算法找到最优投资方案，分析算法设计思路，计算时间复杂度，并基于python编程实现"
   ]
  },
  {
   "cell_type": "markdown",
   "metadata": {},
   "source": [
    "idea：输入：n只股票，每只股票有投资金额（重量）和预期收益率（价值），总预算（背包容量）；输出：在预算限制下，选择股票组合使总预期收益最大\n",
    "\n",
    "关键点：每种股票只能选或不选（0-1背包问题）\n",
    "\n",
    "采用动态规划：定义dp[j]：预算为j时的最大收益\n",
    "\n",
    "对每只股票：从大到小更新预算j的状态\n",
    "\n",
    "不选：保持dp[j]不变；选：dp[j] = max(dp[j], dp[j-cost] + value)"
   ]
  },
  {
   "cell_type": "code",
   "metadata": {
    "ExecuteTime": {
     "end_time": "2025-05-08T09:23:22.954159Z",
     "start_time": "2025-05-08T09:23:22.938645Z"
    }
   },
   "source": [
    "# 股票投资组合优化\n",
    "def max_profit(stocks, budget):\n",
    "    num = len(stocks)\n",
    "    max_budget = budget\n",
    "    # 初始化dp数组\n",
    "    dp = [0 for _ in range(max_budget + 1)]\n",
    "    \n",
    "    # 填充dp数组\n",
    "    for i in range(num):\n",
    "        cost, profit_rate = stocks[i]\n",
    "        for j in range(max_budget, cost - 1, -1):\n",
    "            dp[j] = max(dp[j], dp[j - cost] + cost * profit_rate)\n",
    "    \n",
    "    return dp[max_budget]\n",
    "\n",
    "# 股票信息：[投资金额, 预期收益率]\n",
    "stocks = [\n",
    "    [5000, 0.10],\n",
    "    [3000, 0.08],\n",
    "    [2000, 0.12]\n",
    "]\n",
    "budget = 9000  # 投资预算\n",
    "\n",
    "# 调用函数求解最大预期收益\n",
    "max_expected_profit = max_profit(stocks, budget)\n",
    "print(\"最大预期收益为:\", max_expected_profit)\n",
    "# your algorithm time complexity is:"
   ],
   "outputs": [
    {
     "name": "stdout",
     "output_type": "stream",
     "text": [
      "最大预期收益为: 740.0\n"
     ]
    }
   ],
   "execution_count": 20
  },
  {
   "cell_type": "markdown",
   "metadata": {},
   "source": [
    "## 问题 8\n",
    "\n",
    "给你二叉搜索树的根节点 root ，该树中的恰好两个节点的值被错误地交换。请在不改变其结构的情况下，恢复这棵树 。设计算法解决该问题，分析算法设计思路，计算时间复杂度，并基于python编程实现\n",
    "\n",
    "e.g.:\n",
    "---\n",
    "1.\n",
    "\n",
    "<div style=\"text-align:center;width:200px;\"> <img alt=\"\" src=\"./fig/hw3q9-1.jpg\"> </div>\n",
    "输入：root = [1,3,null,null,2]， 输出为：[3,1,null,null,2]， \n",
    "\n",
    "解释：3 不能是 1 的左孩子，因为 3 > 1 。交换 1 和 3 使二叉搜索树有效。\n",
    "\n",
    "2.\n",
    "\n",
    " <div style=\"text-align:center;width:200px;\"> <img alt=\"\" src=\"./fig/hw3q9-1.jpg\"> </div>\n",
    "输入： root=[3,1,4,null,null,2]， 输出为：[2,1,4,null,null,3]\n",
    "\n",
    "解释：2 不能在 3 的右子树中，因为 2 < 3 。交换 2 和 3 使二叉搜索树有效。"
   ]
  },
  {
   "cell_type": "markdown",
   "metadata": {},
   "source": [
    "idea：（deepseek）1、中序遍历：首先进行中序遍历，由于二叉搜索树的性质，中序遍历的结果应该是一个递增的序列。通过中序遍历，我们可以找到两个值被错误交换的节点。\n",
    "\n",
    "2、找到交换的节点：在中序遍历过程中，记录下违反递增序列的两个节点。这两个节点就是值被交换的节点。\n",
    "\n",
    "3、交换节点值：找到这两个节点后，交换它们的值，从而恢复二叉搜索树的性质。\n",
    "\n",
    "4、递归或迭代：可以使用递归或迭代的方法来实现中序遍历和节点值的交换。\n",
    "\n",
    "该算法的时间复杂度为 O(n)，其中 n 是树中节点的数量。这是因为我们需要遍历整棵树来找到被交换的节点。"
   ]
  },
  {
   "cell_type": "code",
   "metadata": {
    "ExecuteTime": {
     "end_time": "2025-05-08T11:08:36.480474Z",
     "start_time": "2025-05-08T11:08:36.469468Z"
    }
   },
   "source": [
    "# 恢复二叉搜索树（deepseek）\n",
    "class TreeNode:\n",
    "    def __init__(self, val=0, left=None, right=None):\n",
    "        self.val = val\n",
    "        self.left = left\n",
    "        self.right = right\n",
    "\n",
    "class Solution:\n",
    "    def recoverTree(self, root: TreeNode) -> None:\n",
    "        \"\"\"\n",
    "        Do not return anything, modify root in-place instead.\n",
    "        \"\"\"\n",
    "        # Morris中序遍历实现\n",
    "        first = second = None\n",
    "        prev = TreeNode(float('-inf'))\n",
    "        \n",
    "        current = root\n",
    "        while current:\n",
    "            if not current.left:\n",
    "                # 检查当前节点\n",
    "                if prev.val > current.val:\n",
    "                    if not first:\n",
    "                        first = prev\n",
    "                    second = current\n",
    "                prev = current\n",
    "                current = current.right\n",
    "            else:\n",
    "                # 找到前驱节点\n",
    "                predecessor = current.left\n",
    "                while predecessor.right and predecessor.right != current:\n",
    "                    predecessor = predecessor.right\n",
    "                \n",
    "                if not predecessor.right:\n",
    "                    predecessor.right = current\n",
    "                    current = current.left\n",
    "                else:\n",
    "                    predecessor.right = None\n",
    "                    # 检查当前节点\n",
    "                    if prev.val > current.val:\n",
    "                        if not first:\n",
    "                            first = prev\n",
    "                        second = current\n",
    "                    prev = current\n",
    "                    current = current.right\n",
    "        \n",
    "        # 交换两个错误节点的值\n",
    "        first.val, second.val = second.val, first.val\n",
    "\n",
    "# 辅助函数：构建树\n",
    "def build_tree(nodes):\n",
    "    if not nodes:\n",
    "        return None\n",
    "    root = TreeNode(nodes[0])\n",
    "    queue = [root]\n",
    "    i = 1\n",
    "    while queue and i < len(nodes):\n",
    "        current = queue.pop(0)\n",
    "        if nodes[i] is not None:\n",
    "            current.left = TreeNode(nodes[i])\n",
    "            queue.append(current.left)\n",
    "        i += 1\n",
    "        if i < len(nodes) and nodes[i] is not None:\n",
    "            current.right = TreeNode(nodes[i])\n",
    "            queue.append(current.right)\n",
    "        i += 1\n",
    "    return root\n",
    "\n",
    "# 辅助函数：中序遍历验证\n",
    "def inorder_traversal(root):\n",
    "    result = []\n",
    "    stack = []\n",
    "    current = root\n",
    "    while current or stack:\n",
    "        while current:\n",
    "            stack.append(current)\n",
    "            current = current.left\n",
    "        current = stack.pop()\n",
    "        result.append(current.val)\n",
    "        current = current.right\n",
    "    return result\n",
    "\n",
    "# 测试用例1\n",
    "nodes1 = [1, 3, None, None, 2]\n",
    "root1 = build_tree(nodes1)\n",
    "print(\"原始树中序遍历:\", inorder_traversal(root1))\n",
    "Solution().recoverTree(root1)\n",
    "print(\"恢复后中序遍历:\", inorder_traversal(root1))\n",
    "\n",
    "# 测试用例2\n",
    "nodes2 = [3, 1, 4, None, None, 2]\n",
    "root2 = build_tree(nodes2)\n",
    "print(\"\\n原始树中序遍历:\", inorder_traversal(root2))\n",
    "Solution().recoverTree(root2)\n",
    "print(\"恢复后中序遍历:\", inorder_traversal(root2))\n",
    "# your algorithm time complexity is:"
   ],
   "outputs": [
    {
     "name": "stdout",
     "output_type": "stream",
     "text": [
      "原始树中序遍历: [3, 2, 1]\n",
      "恢复后中序遍历: [1, 2, 3]\n",
      "\n",
      "原始树中序遍历: [1, 3, 2, 4]\n",
      "恢复后中序遍历: [1, 2, 3, 4]\n"
     ]
    }
   ],
   "execution_count": 24
  },
  {
   "cell_type": "markdown",
   "metadata": {},
   "source": [
    "## 问题 9  \n",
    "\n",
    "给你一个二叉树的根节点 root ，树中每个节点都存放有一个 0 到 9 之间的数字。每条从根节点到叶节点的路径都代表一个数字：\n",
    "\n",
    "> 例如，从根节点到叶节点的路径 1 -> 2 -> 3 表示数字 123 。\n",
    "\n",
    "设计一个算法计算从根节点到叶节点生成的所有数字之和 ，分析算法设计思路，计算时间复杂度，并基于python编程实现\n",
    "\n",
    "叶节点:是指没有子节点的节点。\n",
    "\n",
    "e.g.:\n",
    "---\n",
    "1.\n",
    "\n",
    " <div style=\"text-align:center;width:200px;\"> <img alt=\"figure\" src=\"./fig/hw3q10-1.jpg\"> </div>\n",
    "\n",
    " 输入：root = [1,2,3], 输出：25\n",
    "\n",
    "解释：从根到叶子节点路径 1->2 代表数字 12，1->3 代表数字 13，因此和为 12 + 13 = 25 。\n",
    "\n",
    "2.\n",
    "\n",
    " <div style=\"text-align:center;width:200px;\"> <img alt=\"figure\" src=\"./fig/hw3q10-2.jpg\"> </div>\n",
    "\n",
    " 输入：root = [4,9,0,5,1], 输出：1026\n",
    "\n",
    "解释：从根到叶子节点路径 4->9->5 代表数字 495，4->9->1 代表数字 491，4->0 代表数字 40。因此和为 495 + 491 + 40 = 1026 。"
   ]
  },
  {
   "cell_type": "markdown",
   "metadata": {},
   "source": [
    "idea：这个问题可以通过深度优先搜索(DFS)来解决，因为我们需要遍历所有从根到叶节点的路径。\n",
    "\n",
    "1、从根节点开始进行DFS遍历；2、在遍历过程中维护当前路径表示的数字；3、当到达叶节点时，将当前数字加到总和中；4、遍历完成后返回总和 \n",
    "\n",
    "（定义Node类，含节点值及左右子节点引用；\n",
    "\n",
    "使用build_tree函数按层序遍历列表构建树，用队列辅助，依次添加左右子节点；\n",
    "\n",
    "最后计算和：get_sum函数含递归函数walk。walk函数遇空节点返回 0；更新当前路径和；遇叶节点返回当前和；否则递归计算左右子树路径和并相加。）\n",
    "\n",
    "时间复杂度分析：需要访问每个节点一次：O(n)，其中n是树中的节点数；对于每个节点，数字操作（乘以10加当前值）是O(1)操作\n",
    "\n",
    "总时间复杂度：O(n)"
   ]
  },
  {
   "cell_type": "code",
   "metadata": {
    "ExecuteTime": {
     "end_time": "2025-05-08T11:28:23.582302Z",
     "start_time": "2025-05-08T11:28:23.569277Z"
    }
   },
   "source": [
    "# 从根到叶节点数字之和\n",
    "class Node:\n",
    "    def __init__(self, num=0, lefty=None, righty=None):\n",
    "        self.num = num\n",
    "        self.lefty = lefty\n",
    "        self.righty = righty\n",
    "\n",
    "\n",
    "def get_sum(tree):\n",
    "    def walk(n, cur):\n",
    "        if not n:\n",
    "            return 0\n",
    "        cur = cur * 10 + n.num\n",
    "        if not n.lefty and not n.righty:\n",
    "            return cur\n",
    "        return walk(n.lefty, cur) + walk(n.righty, cur)\n",
    "\n",
    "    return walk(tree, 0)\n",
    "\n",
    "\n",
    "def build_tree(arr):\n",
    "    if not arr:\n",
    "        return None\n",
    "    top = Node(arr[0])\n",
    "    que = [top]\n",
    "    idx = 1\n",
    "    while que and idx < len(arr):\n",
    "        now = que.pop(0)\n",
    "        if arr[idx] is not None:\n",
    "            now.lefty = Node(arr[idx])\n",
    "            que.append(now.lefty)\n",
    "        idx = idx + 1\n",
    "        if idx < len(arr) and arr[idx] is not None:\n",
    "            now.righty = Node(arr[idx])\n",
    "            que.append(now.righty)\n",
    "        idx = idx + 1\n",
    "    return top\n",
    "\n",
    "\n",
    "# example 1\n",
    "data1 = [1, 2, 3]\n",
    "tree1 = build_tree(data1)\n",
    "print(\"Result 1:\", get_sum(tree1))\n",
    "\n",
    "# example 2\n",
    "data2 = [4, 9, 0, 5, 1]\n",
    "tree2 = build_tree(data2)\n",
    "print(\"Result 2:\", get_sum(tree2))\n",
    "    \n",
    "# your algorithm time complexity is:O(n)"
   ],
   "outputs": [
    {
     "name": "stdout",
     "output_type": "stream",
     "text": [
      "Result 1: 25\n",
      "Result 2: 1026\n"
     ]
    }
   ],
   "execution_count": 27
  },
  {
   "cell_type": "markdown",
   "metadata": {},
   "source": [
    "## 问题 10  \n",
    "\n",
    "给你一个二叉树的根节点 root ， 检查它是否轴对称。\n",
    "\n",
    "1. 分析算法设计思路，计算时间复杂度，并基于python编程实现\n",
    "2. \\* 设计使用递归和迭代两种方法解决这个问题，计算时间复杂度，并基于python编程实现\n",
    "\n",
    "e.g.:\n",
    "---\n",
    "1.\n",
    "\n",
    " <div style=\"text-align:center;width:200px;\"> <img alt=\"figure\" src=\"./fig/hw3q11-1.png\"> </div>\n",
    "\n",
    " 输入：root = [1,2,2,3,4,4,3]， 输出：true\n",
    "\n",
    "解释：二叉树 [1,2,2,3,4,4,3] 对称。\n",
    "\n",
    "2.\n",
    "\n",
    " <div style=\"text-align:center;width:200px;\"> <img alt=\"figure\" src=\"./fig/hw3q11-2.png\"> </div>\n",
    "\n",
    " 输入：root = [1,2,2,null,3,null,3]， 输出：false"
   ]
  },
  {
   "cell_type": "markdown",
   "metadata": {},
   "source": [
    "idea：判断二叉树是否对称的本质是检查这棵树是否与其镜像相同。可以将这个问题转化为：检查树的左子树和右子树是否互为镜像。\n",
    "\n",
    "_如果树为空（root=None），则视为对称（返回True）；如果只有根节点（无左右子树），也视为对称（返回True）\n",
    "\n",
    "_比较规则：左子树的左节点应与右子树的右节点对称；左子树的右节点应与右子树的左节点对称；同时这两个对应节点的值必须相等\n",
    "\n",
    "_递归过程：从根节点开始，比较左右子树；对每对比较的节点，递归检查它们的子节点是否符合镜像关系；所有递归比较都必须返回True，整棵树才对称\n",
    "\n",
    "_定义辅助函数isMirror(left, right)专门用于比较两棵子树；在辅助函数中实现上述比较规则；主函数处理空树情况并启动首次比较\n",
    "\n"
   ]
  },
  {
   "cell_type": "code",
   "metadata": {
    "ExecuteTime": {
     "end_time": "2025-05-08T12:29:02.145501Z",
     "start_time": "2025-05-08T12:29:02.128865Z"
    }
   },
   "source": [
    "# 对称二叉树检查\n",
    "class TreeNode:\n",
    "    def __init__(self, val=0, left=None, right=None):\n",
    "        self.val = val\n",
    "        self.left = left\n",
    "        self.right = right\n",
    "\n",
    "class Solution:\n",
    "    def isSymmetric(self, root):\n",
    "        def check(left, right):\n",
    "            # 如果两个节点都为空，是对称的\n",
    "            if not left and not right:\n",
    "                return True\n",
    "             # 如果只有一个节点为空，不对称\n",
    "            if not left or not right:\n",
    "                return False\n",
    "            # 比较节点值，并递归比较子树\n",
    "            return (left.val == right.val and \n",
    "                   check(left.left, right.right) and \n",
    "                   check(left.right, right.left))\n",
    "        \n",
    "        return check(root.left, root.right) if root else True# 空树是对称的\n",
    "# 辅助函数：构建树\n",
    "def create_tree(values):\n",
    "    if not values:\n",
    "        return None\n",
    "    root = TreeNode(values[0])\n",
    "    nodes = [root]\n",
    "    i = 1\n",
    "    while nodes and i < len(values):\n",
    "        node = nodes.pop(0)\n",
    "        if values[i] is not None:\n",
    "            node.left = TreeNode(values[i])\n",
    "            nodes.append(node.left)\n",
    "        i += 1\n",
    "        if i < len(values) and values[i] is not None:\n",
    "            node.right = TreeNode(values[i])\n",
    "            nodes.append(node.right)\n",
    "        i += 1\n",
    "    return root\n",
    "\n",
    "solver = Solution()\n",
    "\n",
    "# example 1\n",
    "tree1 = create_tree([1,2,2,3,4,4,3])\n",
    "print(solver.isSymmetric(tree1))  # 输出: True\n",
    "\n",
    "# example 2\n",
    "tree2 = create_tree([1,2,2,None,3,None,3])\n",
    "print(solver.isSymmetric(tree2))  # 输出: False\n",
    "# your algorithm time complexity is:"
   ],
   "outputs": [
    {
     "name": "stdout",
     "output_type": "stream",
     "text": [
      "True\n",
      "False\n"
     ]
    }
   ],
   "execution_count": 30
  },
  {
   "cell_type": "markdown",
   "metadata": {},
   "source": [
    "## 问题 11  \n",
    "\n",
    "给你一个由 '1'（陆地）和 '0'（水）组成的的二维网格，请你计算网格中岛屿的数量。岛屿总是被水包围，并且每座岛屿只能由水平方向和/或竖直方向上相邻的陆地连接形成。\n",
    "\n",
    "此外，你可以假设该网格的四条边均被水包围。\n",
    "\n",
    "分析算法设计思路，计算时间复杂度，并基于python编程实现\n",
    "\n",
    "e.g.:\n",
    "---\n",
    "1.\n",
    "输入：grid = [\n",
    "\n",
    "    [\"1\",\"1\",\"1\",\"1\",\"0\"],\n",
    "\n",
    "    [\"1\",\"1\",\"0\",\"1\",\"0\"], \n",
    "\n",
    "    [\"1\",\"1\",\"0\",\"0\",\"0\"], \n",
    "\n",
    "    [\"0\",\"0\",\"0\",\"0\",\"0\"]  \n",
    "\n",
    "]\n",
    "\n",
    "输出：1\n",
    "\n",
    "2.\n",
    "输入：grid = [\n",
    "\n",
    "    [\"1\",\"1\",\"0\",\"0\",\"0\"],\n",
    "\n",
    "    [\"1\",\"1\",\"0\",\"0\",\"0\"],\n",
    "\n",
    "    [\"0\",\"0\",\"1\",\"0\",\"0\"],\n",
    "\n",
    "    [\"0\",\"0\",\"0\",\"1\",\"1\"]\n",
    "\n",
    "]\n",
    "\n",
    "输出：3"
   ]
  },
  {
   "cell_type": "markdown",
   "metadata": {},
   "source": [
    "idea:计算二维网格中岛屿的数量，使用深度优先搜索（DFS）算法。对于每个未访问的单元格，如果它是一个岛屿（即值为 '1'），我们就从这个单元格开始进行DFS，将所有相邻的陆地单元格标记为已访问。\n",
    "\n",
    "（首先第一步遍历整个网格，找到所有值为 '1' 的单元格。然后进行深度优先搜索，对于每个值为 '1' 的单元格，使用DFS遍历其所有相邻的陆地单元格（上、下、左、右），并将它们标记为已访问；接着每完成一次DFS，岛屿数量就加1，进行计数；最后遍历完成后，返回找到的岛屿总数）\n",
    "\n",
    "时间复杂度：O(M×N)，其中M是行数，N是列数，因为每个单元格最多被访问两次"
   ]
  },
  {
   "cell_type": "code",
   "metadata": {
    "ExecuteTime": {
     "end_time": "2025-05-08T12:55:27.989711Z",
     "start_time": "2025-05-08T12:55:27.969477Z"
    }
   },
   "source": [
    "# 岛屿数量问题\n",
    "class Solution:\n",
    "    def count_islands(self, grid):\n",
    "        if not grid:\n",
    "            return 0\n",
    "        \n",
    "        rows, cols = len(grid), len(grid[0])\n",
    "        island_count = 0\n",
    "        \n",
    "        def dfs(r, c):\n",
    "            if 0 <= r < rows and 0 <= c < cols and grid[r][c] == '1':\n",
    "                grid[r][c] = '0'\n",
    "                dfs(r + 1, c)\n",
    "                dfs(r - 1, c)\n",
    "                dfs(r, c + 1)\n",
    "                dfs(r, c - 1)\n",
    "        \n",
    "        for i in range(rows):\n",
    "            for j in range(cols):\n",
    "                if grid[i][j] == '1':\n",
    "                    dfs(i, j)\n",
    "                    island_count += 1\n",
    "        \n",
    "        return island_count\n",
    "\n",
    "def build_grid(grid_values):\n",
    "    if not grid_values:\n",
    "        return []\n",
    "    rows = len(grid_values)\n",
    "    cols = len(grid_values[0])\n",
    "    grid = []\n",
    "    for i in range(rows):\n",
    "        row = []\n",
    "        for j in range(cols):\n",
    "            row.append(grid_values[i][j])\n",
    "        grid.append(row)\n",
    "    return grid\n",
    "\n",
    "solver = Solution()\n",
    "\n",
    "# example 1\n",
    "grid_values1 = [\n",
    "    [\"1\",\"1\",\"1\",\"1\",\"0\"],\n",
    "    [\"1\",\"1\",\"0\",\"1\",\"0\"],\n",
    "    [\"1\",\"1\",\"0\",\"0\",\"0\"],\n",
    "    [\"0\",\"0\",\"0\",\"0\",\"0\"]\n",
    "]\n",
    "grid1 = build_grid(grid_values1)\n",
    "print(\"example 1 output:\", solver.count_islands(grid1))  \n",
    "\n",
    "# example 2\n",
    "grid_values2 = [\n",
    "    [\"1\",\"1\",\"0\",\"0\",\"0\"],\n",
    "    [\"1\",\"1\",\"0\",\"0\",\"0\"],\n",
    "    [\"0\",\"0\",\"1\",\"0\",\"0\"],\n",
    "    [\"0\",\"0\",\"0\",\"1\",\"1\"]\n",
    "]\n",
    "grid2 = build_grid(grid_values2)\n",
    "print(\"example 2 output:\", solver.count_islands(grid2)) \n",
    "# your algorithm time complexity is:O(M×N)"
   ],
   "outputs": [
    {
     "name": "stdout",
     "output_type": "stream",
     "text": [
      "example 1 output: 1\n",
      "example 2 output: 3\n"
     ]
    }
   ],
   "execution_count": 33
  }
 ],
 "metadata": {
  "language_info": {
   "name": "python"
  },
  "kernelspec": {
   "name": "python3",
   "language": "python",
   "display_name": "Python 3 (ipykernel)"
  }
 },
 "nbformat": 4,
 "nbformat_minor": 2
}
