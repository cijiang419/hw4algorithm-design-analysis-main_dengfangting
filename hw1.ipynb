{
 "cells": [
  {
   "cell_type": "markdown",
   "metadata": {},
   "source": [
    "## algorithm design and anlysis-2025 spring  homework 1 \n",
    "**Deadline**：2025.5.14\n",
    "\n",
    "**name**:邓方婷\n",
    "\n",
    "\n",
    "note：\n",
    "---\n",
    "1. 带有\\*的题目，申请免上课的同学，必须完成，其他同学选作；\n",
    "2. 请独立完成，如求助了他人或者大模型，请著明，并且不可省略算法分析部分；\n",
    "4. 如若作答有雷同，全部取消成绩；\n",
    "3. 需要书面作答的题目，可以通过引用图片的形式添加，但是注意上传项目时包含所引用的图片的源文件；\n",
    "4. $log_n$ 默认表示$log_2{n}$;"
   ]
  },
  {
   "cell_type": "markdown",
   "metadata": {},
   "source": [
    "## 问题 1\n",
    "\n",
    "对于下面的每一对表达式(A, B), A是否能表示为B的 $\\Theta, \\Omega ,O$形式. 请注意, 这些关系中的零个、一个或多个可能成立。列出所有正确的。经常发生一些学生会,把指示写错, 所以请把关系写完整, 例如: $A = O(B),  A =\\Theta(B)$, 或$A = \\Omega(B)$。\n",
    "\n",
    "1. $A=n^2-100n, B=n^2$\n",
    "2. $A=logn, B=log_{1.2}n$\n",
    "3. $A=3^{2n}, B=2^{4n}$\n",
    "4. $A=2^{logn}, B=n$\n",
    "5. $A=\\log{\\log}{n},B=10^{10^{100}}$"
   ]
  },
  {
   "cell_type": "markdown",
   "metadata": {},
   "source": [
    "can refer a handwritten picture, please upload the picture in /fig/xxx.png\n",
    "answer:![figure](./fig/hw1q1.png)\n"
   ]
  },
  {
   "cell_type": "markdown",
   "metadata": {},
   "source": [
    "## 问题 2：\n",
    "\n",
    "假设有函数 $f$ 和 $g$ 使得 $f(n)$ = $O(g(n))$ 对于下面的每一个陈述, 请判断对错, 如果正确请给出证明, 否则请给出一个反例。\n",
    "\n",
    "1. $\\log{f(n)}$ = $O(\\log(1+g(n)))$\n",
    "2. $3^{f(n)}=O(3^{g(n)})$\n",
    "3. $(f(n))^2=O((g(n))^2)$ "
   ]
  },
  {
   "cell_type": "markdown",
   "metadata": {},
   "source": [
    "you can refer a handwritten picture, pleas upload the picture in /fig/xxx.png\n",
    "answer:![figure](./fig/hw1q2.png)"
   ]
  },
  {
   "cell_type": "markdown",
   "metadata": {},
   "source": [
    "## 问题 3\n",
    "\n",
    "根据下列递归公式, 计算下列 $T(n)$ 对应的的渐近上界。要求所求的边界尽可能的紧（tight）, 请写明步骤。\n",
    "\n",
    "1. $T(1)=1; T(n)=T(n/4)+1$ for $n>1$\n",
    "2. $T(1)=1;T(n)=3T(n/3)+n^2$ for $n>1$\n",
    "3. $T(1)=1;T(n)=T(2n/3)+1$ for $n>1$\n",
    "4. $T(1)=1;T(n)=5T(n/4)+n$ for $n>1$\n",
    "5. $T(n)=1 \\ for\\ n \\le 2 ; T(n)=T(\\sqrt{n})+1 \\ for \\ n>2$"
   ]
  },
  {
   "cell_type": "markdown",
   "metadata": {},
   "source": [
    "can refer a handwritten picture, pleas upload the picture in /fig/xxx.png\n",
    "answer:![figure](./fig/hw1q3(1).png)\n",
    "![figure](./fig/hw1q3(2).png)"
   ]
  },
  {
   "cell_type": "markdown",
   "metadata": {},
   "source": [
    "## 问题 4：\n",
    "\n",
    "给定一个包含n个元素的数组 `profits` , 它的第 `i` 个元素 `profits[i]` 表示一支股票第 `i` 天的**收益**（正数表示涨, 负数表示跌）。你只能选择 **某一天** 买入这只股票, 并选择在 **未来的某一个不同的日子** 卖出该股票。\n",
    "\n",
    "1. 设计一个算法来计算你所能获取的最大利润和对应买入和卖出的日期。请分析算法方案, 计算其时间复杂度, 并且使用python编程实现该算法。\n",
    "\n",
    "2. \\* 设计一个时间复杂度为 $O(n)$的算法实现该算法\n",
    "\n",
    "e.g. :\n",
    "---\n",
    "profits=[3,2,1,-7,5,2,-1,3,-1], 第5天买入, 第8天卖出, 收益最大：9\n",
    "\n"
   ]
  },
  {
   "cell_type": "markdown",
   "metadata": {},
   "source": [
    "idea:通过一次遍历来找到最大利润。首先初始化最小买入价格为第一天的价格，最大利润为0。\n",
    "\n",
    "遍历数组，对于每一天：如果当前价格小于已知的最小买入价格，更新最小买入价格。\n",
    "\n",
    "否则，计算当前价格与最小买入价格的差值，如果大于已知的最大利润，则更新最大利润和对应的买入卖出日期。\n",
    "\n",
    "这种方法的时间复杂度是O(n)。"
   ]
  },
  {
   "cell_type": "code",
   "metadata": {
    "ExecuteTime": {
     "end_time": "2025-05-08T13:53:09.058683Z",
     "start_time": "2025-05-08T13:53:09.051683Z"
    }
   },
   "source": [
    "def max_profit(profits):\n",
    "    if not profits or len(profits) < 2:\n",
    "        return 0, None, None  # 无法交易的情况\n",
    "\n",
    "    min_buy = profits[0]  # 初始化最小买入价格\n",
    "    max_profit_value = 0  # 初始化最大利润\n",
    "    buy_day = 0  # 初始化买入日期（0-based）\n",
    "    sell_day = 1  # 初始化卖出日期（0-based）\n",
    "    temp_buy_day = 0  # 临时记录当前最小买入价格的日期\n",
    "\n",
    "    for i in range(1, len(profits)):\n",
    "        if profits[i] < min_buy:\n",
    "            min_buy = profits[i]  # 更新最小买入价格\n",
    "            temp_buy_day = i  # 更新临时买入日期\n",
    "        else:\n",
    "            current_profit = profits[i] - min_buy\n",
    "            if current_profit > max_profit_value:\n",
    "                max_profit_value = current_profit  # 更新最大利润\n",
    "                buy_day = temp_buy_day  # 更新买入日期\n",
    "                sell_day = i  # 更新卖出日期\n",
    "\n",
    "    if max_profit_value <= 0:\n",
    "        return 0, None, None  # 没有正利润的交易\n",
    "    else:\n",
    "        return max_profit_value, buy_day + 1, sell_day + 1  \n",
    "# example\n",
    "profits1 = [3,2,1,-7,5,2,-1,3,-1]\n",
    "profit_value1, buy1, sell1 = max_profit(profits1)\n",
    "print(f\"最大利润: {profit_value1}, 买入日期: 第{buy1}天, 卖出日期: 第{sell1}天\")\n",
    "# an algorithm with O(n)\n"
   ],
   "outputs": [
    {
     "name": "stdout",
     "output_type": "stream",
     "text": [
      "最大利润: 12, 买入日期: 第4天, 卖出日期: 第5天\n"
     ]
    }
   ],
   "execution_count": 28
  },
  {
   "cell_type": "markdown",
   "metadata": {},
   "source": [
    "## 问题 5：\n",
    "\n",
    "观察下方的分治算法（divide-and-conquer algorithm）的伪代码, 回答下面问题\n",
    "\n",
    "```latex\n",
    "DoSomething(A,p,r)\n",
    "-----\n",
    "n := r-p+1\n",
    "if n=2 and A[p]>A[r] then\n",
    "    swap A[p] and A[r]\n",
    "else if n >= 3 then\n",
    "    m = ceil(2n/3)\n",
    "    DoSomething(A,p,p+m-1)\n",
    "    DoSomething(A,r-m+1,r)\n",
    "    DoSomething(A,p,p+m-1)  \n",
    "    \n",
    "---\n",
    "first call: DoSomething(A,1,n)\n",
    "```\n",
    "\n",
    "note：$ceil(2n/3)=\\left\\lceil {2n/3} \\right\\rceil$；$:=$ 表示赋值, 等价于 $\\to$；A是一个包含n的整数元素的数组, \n",
    "\n",
    "1. 写出该算法时间复杂度的递归公式, 并求解其对应的渐进表示\n",
    "2. 描述一下该算法的功能, 并判断是否是最高效的解决方案\n",
    "3. 使用python编程实现上述算法或其对应的更高效版本的算法\n"
   ]
  },
  {
   "cell_type": "markdown",
   "metadata": {},
   "source": [
    "idea：1. 时间复杂度的递归公式及渐进表示\n",
    "递归公式：对于规模为n的问题，算法将其分为三个子问题：两个规模为 ⌈2n/3⌉的子问题。一个规模为⌈2n/3⌉的子问题（重复调用）。\n",
    "\n",
    "因此，递归公式为：T(n)=3T(⌈2n/3⌉)+O(1)\n",
    "其中O(1)是交换和比较的常数时间操作。\n",
    "\n",
    "渐进表示：根据主定理：a=3, b=3/2, f(n)=O(1)。\n",
    "T(n)=Θ(n2.709)\n",
    "\n",
    "2、算法功能及效率分析\n",
    "功能：该算法是一个分治排序算法，类似于“三路归并排序”的变种。对\n",
    "长度为2的数组，直接比较并交换（类似冒泡排序的最小单位）。\n",
    "\n",
    "对于更长的数组，递归地处理前⌈2n/3⌉和后⌈2n/3⌉部分，最后再处\n",
    "理前⌈2n/3⌉部分。\n",
    "目的是通过分治和递归逐步排序数组。\n",
    "\n",
    "不是最有效的解决方案。时间复杂度为Θ(n2.709)，远高于标准排序\n",
    "算法（如快速排序、归并排序的O(nlog)\n",
    "递归深度和子问题规模设计不合理，导致效率低下。"
   ]
  },
  {
   "cell_type": "markdown",
   "metadata": {},
   "source": [
    "answer:1、原算法的递归公式为：T(n)=3T(⌈2n/3⌉)+O(1)，渐进表示为Θ(n2.709)\n",
    "\n",
    "2、原算法是一个低效的分治排序算法，远不如标准排序算法高效。"
   ]
  },
  {
   "cell_type": "code",
   "metadata": {
    "ExecuteTime": {
     "end_time": "2025-05-08T13:58:57.527152Z",
     "start_time": "2025-05-08T13:58:57.465146Z"
    }
   },
   "source": [
    "# 更高效的归并排序\n",
    "def mergeSort(arr):\n",
    "    # 如果数组长度大于 1，则继续进行分割排序\n",
    "    if len(arr) > 1:\n",
    "        middle = len(arr) // 2\n",
    "        left = arr[:middle]\n",
    "        right = arr[middle:]\n",
    "\n",
    "        mergeSort(left)\n",
    "        mergeSort(right)\n",
    "\n",
    "        left_idx = right_idx = arr_idx = 0\n",
    "\n",
    "        # 合并左右两个已排序的子数组\n",
    "        while left_idx < len(left) and right_idx < len(right):\n",
    "            if left[left_idx] < right[right_idx]:\n",
    "                arr[arr_idx] = left[left_idx]\n",
    "                left_idx += 1\n",
    "            else:\n",
    "                arr[arr_idx] = right[right_idx]\n",
    "                right_idx += 1\n",
    "            arr_idx += 1\n",
    "\n",
    "        while left_idx < len(left):\n",
    "            arr[arr_idx] = left[left_idx]\n",
    "            left_idx += 1\n",
    "            arr_idx += 1\n",
    "\n",
    "        while right_idx < len(right):\n",
    "            arr[arr_idx] = right[right_idx]\n",
    "            right_idx += 1\n",
    "            arr_idx += 1\n",
    "\n",
    "test_arr = [10, 7, 11, 2, 5, 6]\n",
    "mergeSort(test_arr)\n",
    "print(\"归并排序结果:\", test_arr)\n",
    "    \n",
    "# your algorithm time complexity is :O(nlogn)"
   ],
   "outputs": [
    {
     "name": "stdout",
     "output_type": "stream",
     "text": [
      "归并排序结果: [2, 5, 6, 7, 10, 11]\n"
     ]
    }
   ],
   "execution_count": 30
  },
  {
   "cell_type": "markdown",
   "metadata": {},
   "source": [
    "## 问题 6：\n",
    "\n",
    "给定一个大小为 `n` 的数组 `nums` , 返回其中的多数元素。多数元素是指在数组中出现次数 **大于** `⌊ n/2 ⌋` 的元素。\n",
    "\n",
    "你可以假设数组是非空的, 并且给定的数组总是存在多数元素。\n",
    "\n",
    "1. 设计一个算法找到给定数组的多数元素, 分析算法设计思路, 计算算法时间复杂度, 使用python编程实现\n",
    "2. \\* 设计时间复杂度为 O(n)、空间复杂度为 O(1) 的算法解决此问题, 分析算法设计思路, 使用python编程实现\n",
    "\n",
    "e.g.:\n",
    "---\n",
    "1. nums=[3,2,3], 返回3\n",
    "2. nums=[2,2,1,1,1,2,2], 返回2\n"
   ]
  },
  {
   "cell_type": "markdown",
   "metadata": {},
   "source": [
    "idea：1、采用哈希表统计法来来实现；使用哈希表统计每个元素的出现次数遍历数组，将数组中的元素作为哈希表的键，元素出现的次数作为值。找到出现次数超过⌊n/2⌋的元素。\n",
    "\n",
    "遍历数组统计次数：O(n)。遍历哈希表查找多数元素：O(n)。总时间复杂度：O(n)。"
   ]
  },
  {
   "cell_type": "code",
   "metadata": {
    "ExecuteTime": {
     "end_time": "2025-05-09T08:42:24.522305Z",
     "start_time": "2025-05-09T08:42:24.502304Z"
    }
   },
   "source": [
    "# 哈希表统计法\n",
    "def majority_element(nums):\n",
    "    counts = {}\n",
    "    for num in nums:\n",
    "         # 更新当前元素的计数\n",
    "        counts[num] = counts.get(num, 0) + 1\n",
    "    for num, count in counts.items():\n",
    "        if count > len(nums) // 2:\n",
    "            return num\n",
    "\n",
    "# example\n",
    "nums1 =[3,2,3]\n",
    "print(majority_element(nums1))\n",
    "\n",
    "nums2 = [2,2,1,1,1,2,2]\n",
    "print(majority_element(nums2)) \n",
    "# your algorithm time complexity is :O(n)"
   ],
   "outputs": [
    {
     "name": "stdout",
     "output_type": "stream",
     "text": [
      "3\n",
      "2\n"
     ]
    }
   ],
   "execution_count": 31
  },
  {
   "cell_type": "markdown",
   "metadata": {},
   "source": [
    "idea for 2\\*："
   ]
  },
  {
   "cell_type": "code",
   "metadata": {},
   "source": [
    "# algorithm time complexity：O(n), space complexity:O(1)\n",
    "# add your code here"
   ],
   "outputs": [],
   "execution_count": null
  },
  {
   "cell_type": "markdown",
   "metadata": {},
   "source": [
    "## 问题 7：\n",
    "\n",
    "给定一个包含不同整数元素的数组 $ A[1..n]$ ,并且满足条件：$A[1]>A[2]$ 并且 $A[n-1]<A[n]$; 规定：如果一个元素比它两边的邻居元素都小, 即：$A[x]<A[x-1], A[x]<A[x+1]$ , 称这个元素A[x]为“局部最小”。通过遍历一次数组, 我们可以很容易在 $O(n)$的时间复杂度下找到一个局部最小值, \n",
    "\n",
    "\n",
    "1. 分析该问题, 设计一个算法在$O(logn)$的时间复杂度下找到一个局部最小(返回数值), 要求：分析算法设计思路, 并且使用python编程实现\n",
    "2. \\* 设计算法找出所有局部最小值, 分析算法设计思路, 并使用python编程实现\n",
    "\n",
    "e.g.:\n",
    "---\n",
    "A=[9, 3, 7, 2, 1, 4, 5 ] 时,  局部最小元素为 3, 1\n"
   ]
  },
  {
   "metadata": {},
   "cell_type": "markdown",
   "source": ""
  },
  {
   "cell_type": "markdown",
   "metadata": {},
   "source": [
    "idea：1、设计思路：可以采用二分查找法来解决这个问题。\n",
    "\n",
    "第一步初始化：\n",
    "左指针 left = 1（假设索引从 1 开始）。\n",
    "右指针 right = n-1（A[n] 无右邻居）。\n",
    "\n",
    "第二步计算中间位置 mid。检查 A[mid] 是否满足局部最小条件：\n",
    "\n",
    "如果 A[mid] < A[mid-1] 且 A[mid] < A[mid+1]，直接返回 A[mid]。\n",
    "否则：如果 A[mid] > A[mid-1]，说明局部最小值在左半边（left 到 mid-1）。\n",
    "\n",
    "如果 A[mid] > A[mid+1]，说明局部最小值在右半边（mid+1 到 right）。\n",
    "\n",
    "第三步终止条件：当 left == right 时，A[left] 即为局部最小值"
   ]
  },
  {
   "cell_type": "code",
   "metadata": {
    "ExecuteTime": {
     "end_time": "2025-05-09T08:56:34.059505Z",
     "start_time": "2025-05-09T08:56:34.048491Z"
    }
   },
   "source": [
    "# 二分查找法\n",
    "def _min_(A):\n",
    "    n = len(A)\n",
    "    left, right = 1, n - 2  # 忽略首尾\n",
    "    while left <= right:\n",
    "        mid = (left + right) // 2\n",
    "        if A[mid] < A[mid - 1] and A[mid] < A[mid + 1]:\n",
    "            return A[mid]  # 找到局部最小值\n",
    "        elif A[mid] > A[mid - 1]:\n",
    "            right = mid - 1  # 向左搜索\n",
    "        else:\n",
    "            left = mid + 1  # 向右搜索\n",
    "    return A[left]  # 边界情况（left == right）\n",
    "\n",
    "# example\n",
    "A = [9, 3, 7, 2, 1, 4, 5 ]\n",
    "print(_min_(A))  # 输出: 1\n",
    "# your algorithm time complexity is :O(logn)"
   ],
   "outputs": [
    {
     "name": "stdout",
     "output_type": "stream",
     "text": [
      "1\n"
     ]
    }
   ],
   "execution_count": 32
  },
  {
   "cell_type": "markdown",
   "metadata": {},
   "source": [
    "## 问题 8：\n",
    "\n",
    "给定包含n个不同数字的一组数, 寻找一种基于比较的算法在这组数中找到k个最小的数字, 并按顺序输出它们。\n",
    "\n",
    "1. 将n个数先进行排序, 然后按顺序输出最小的k个数。要求：选择合适的排序算法实现上述操作, 计算算法时间复杂度, 并使用python编程实现。\n",
    "2. 建立一个包含这n个数的堆（heap）, 并且调用 k 次Extract-min 按顺序输出最小的k个数。使用往空堆中不断插入元素的方法建立堆, 分析这种方法建堆的时间复杂度, 并使用python编程实现\n",
    "3. \\* 假设数组中包含的数据总数目超过了计算机的存储能力, 请设计一个算法, 找到这堆数据的前k小的数值, 计算时间复杂度, 并使用python实现该算法, 假设计算机一定能存储k个数据。\n",
    "\n",
    "e.g.：\n",
    "---\n",
    "数组arr=[5,4,3,2,6,1,88,33,22,107] 的前3个最小数据为：1, 2, 3\n"
   ]
  },
  {
   "cell_type": "markdown",
   "metadata": {},
   "source": [
    "idea：1. 排序后取前k个数\n",
    "\n",
    "设计思路：排序数组：使用高效的排序算法（快速排序）对数组进行排序。\n",
    "\n",
    "取前k个数：排序后直接输出前 k 个元素。\n",
    "\n",
    "排序时间复杂度：O(nlogn)（快速排序）。\n",
    "取前 k 个数：O(1)（直接切片）。\n",
    "总时间复杂度：O(nlogn)。\n",
    "\n",
    "2.使用堆（Heap）提取前k个数\n",
    "设计思路：a.构建最小堆：将数组转换为最小堆（堆顶是最小元素）。使用heapify 方法（从最后一个非叶子节点开始，自底向上调整堆。）\n",
    "\n",
    "b.提取前k个数：执行 k 次 extract-min 操作（即每次取出堆顶元素，然后重新调整堆）。\n",
    "\n",
    "c.输出结果：按提取顺序返回 k 个最小元素（因为每次取出的都是当前堆中的最小值）。\n",
    "\n",
    "总时间复杂度：O(n+klogn)。"
   ]
  },
  {
   "cell_type": "code",
   "metadata": {
    "ExecuteTime": {
     "end_time": "2025-05-09T08:57:54.385148Z",
     "start_time": "2025-05-09T08:57:54.369191Z"
    }
   },
   "source": [
    "# 第一问，采用了快排\n",
    "def quicksort(arr):\n",
    "    if len(arr) <= 1:\n",
    "        return arr\n",
    "    pivot = arr[len(arr) // 2]\n",
    "    left = [x for x in arr if x < pivot]\n",
    "    middle = [x for x in arr if x == pivot]\n",
    "    right = [x for x in arr if x > pivot]\n",
    "    return quicksort(left) + middle + quicksort(right)\n",
    "\n",
    "def _smallest_quick(arr, k):\n",
    "    arr_sorted = quicksort(arr)\n",
    "    return arr_sorted[:k]\n",
    "\n",
    "# example\n",
    "arr = [5,4,3,2,6,1,88,33,22,107] \n",
    "print(_smallest_quick(arr, 3))  \n",
    "# your algorithm time complexity is :O(logn)"
   ],
   "outputs": [
    {
     "name": "stdout",
     "output_type": "stream",
     "text": [
      "[1, 2, 3]\n"
     ]
    }
   ],
   "execution_count": 33
  },
  {
   "metadata": {
    "ExecuteTime": {
     "end_time": "2025-05-09T08:58:05.550473Z",
     "start_time": "2025-05-09T08:58:05.535958Z"
    }
   },
   "cell_type": "code",
   "source": [
    "# 使用堆（Heap）提取前k个数\n",
    "import heapq\n",
    "\n",
    "def _smallest_heap(arr, k):\n",
    "    heapq.heapify(arr)  # 原地构建最小堆（O(n)）\n",
    "    return [heapq.heappop(arr) for _ in range(k)]  # 提取前k个最小元素（O(k log n)）\n",
    "\n",
    "# example\n",
    "arr = [5,4,3,2,6,1,88,33,22,107]\n",
    "print(_smallest_heap(arr.copy(), 3))  # 输出: [1, 2, 3]\n",
    "# your algorithm time complexity is :O(n+klogn)"
   ],
   "outputs": [
    {
     "name": "stdout",
     "output_type": "stream",
     "text": [
      "[1, 2, 3]\n"
     ]
    }
   ],
   "execution_count": 34
  },
  {
   "cell_type": "markdown",
   "metadata": {},
   "source": [
    "## 问题 9：\n",
    "\n",
    "**选择问题**:给定一个包含n个未排序值的数组A和一个$k≤n$的整数, 返回A中最小的第k项。\n",
    "\n",
    "在课堂上, 学了一个简单的O(n)随机算法来解决选择问题。事实上还有一种更复杂的最坏情况下时间复杂度为$O(n)$ 的选择算法。假设使用一个黑盒过程来实现这个O(n)选择算法: 给定一个数组A、 $p < r$ 和 k,  $BB(A, p, r, k)$ 可以在$O(r−p+ 1)$时间内找到并报告$A[p..r]$中第k小的项的下标。假设你可以在线性时间内处理Partition过程。\n",
    "\n",
    "1. 请分析如何修改 Quicksork 算法可以使其最差情况下的运行时间为 $O(nlogn)$, 使用伪代码实现, 并分析为何修改后的版本最差情况的运行时间为$O(nlogn)$\n",
    "\n",
    "note: 伪代码中, 你可以直接调用用` BB(A,p,r,k)`这个函数用于表示在最坏情况下时间复杂度为$O(n)$的选择算法；\n",
    "\n",
    "\n",
    "\n",
    "2. 找到一个更好的算法报告数组A中的前k小的项, 使用伪代码表示你的算法, 并分析你算法的时间复杂度。\n",
    "\n",
    "举例：A=[13, 3, 7, 9, 11, 1, 15, 2, 8, 10, 12, 16, 14, 5], 当k=4时, 应该报告1, 2, 3, 4\n",
    "\n",
    "note： 最直观的方法就是先将数组A排序, 然后从左向右报告其前k项, 这样操作的时间复杂度为$O(nlogn)$. 调用用` BB(A,p,r,k)`设计一个算法使其报告无序数组A的前k项, 满足时间复杂度好于$\\Theta(nlogn)$, 并且当$k=\\sqrt{n}$时, 你设计的算法时间复杂度应该为$\\Theta(n)$.\n",
    "\n",
    "\n",
    "\n",
    "3. 给定一个大小为n的数组, 找到一个 时间复杂度为$O(n log k)$ 的算法, 该算法将A中的元素重新排序, 使它们被划分为k个部分, 每个部分的元素小于或等于下一部分的元素。假设n和k都是2的幂。使用伪代码表示你的算法, 并分析时间复杂度。\n",
    "\n",
    "e.g.:\n",
    "---\n",
    "数组：[1,  3,  5,  7,  9,  11,  13,  15,  2,  4,  6,  8,  10,  12,  16,  14], k=4, \n",
    "\n",
    "对应重新排序的数组为：[1,  3,  2,  4]  [7,  6,  5,  8]  [12,  11,  10,  9]  [13,  14,  16,  15]\n",
    "\n",
    "\n"
   ]
  },
  {
   "cell_type": "markdown",
   "metadata": {},
   "source": [
    "idea：(求助deepseek)问题1：修改快速排序算法使其最坏情况下为$O(nlogn)$\n",
    "设计思路：快速排序的最坏时间复杂度为$O(n^2)$\n",
    "（当每次划分极不平衡时）。通过 使用线性时间选择算法（BB）确定中位数作为枢轴，可以保证每次划分平衡，从而将最坏时间复杂度优化为$O(nlogn)$。\n",
    "\n",
    "时间复杂度分析\n",
    "每次划分：调用 BB 选择中位数：$O(n)$。Partition：$O(n)$。\n",
    "\n",
    "递归深度：由于每次划分后两部分大小均≤n/2，深度为 $O(nlogn)$。\n",
    "\n",
    "总时间复杂度：$O(nlogn)$。\n",
    "\n",
    "问题2：高效报告前k小的项（优于 $O(nlogn)$）\n",
    "设计思路：a.调用 BB 找到第k小的元素（记为 x）：$O(n)$\n",
    "\n",
    "b.划分数组：将数组分为两部分，前部分≤ x，后部分 > x：$O(n)$\n",
    "\n",
    "c.对前部分排序：仅需对前k个元素排序（因为后部分不可能属于前k小）：$O(klogk)$\n",
    "\n",
    "d.总时间复杂度：$O(n+klogk)$。\n",
    "当k=$k=\\sqrt{n}$时，为 $O(n)$\n",
    "\n",
    "问题3：将数组划分为k个有序部分（$O(nlogk)$）\n",
    "设计思路:a.递归划分：使用 BB 找到第n/k小的元素作为枢轴，将数组分为两部分。对每部分递归划分，直到划分为k个部分。\n",
    "\n",
    "b.时间复杂度：每次划分：$O(n)$。\n",
    "\n",
    "递归深度：$O(logk)$。\n",
    "\n",
    "总时间复杂度：$O(nlogk)$。\n"
   ]
  },
  {
   "cell_type": "code",
   "metadata": {},
   "source": [
    "# 第一题伪代码(求助deepseek)\n",
    "Modified-Quicksort(A, p, r):\n",
    "    if p < r:\n",
    "        median_idx = BB(A, p, r, (r - p + 1) // 2)\n",
    "        swap(A[median_idx], A[r])  # 将中位数放到末尾\n",
    "        q = Partition(A, p, r)    # 标准Partition过程\n",
    "        Modified-Quicksort(A, p, q - 1)\n",
    "        Modified-Quicksort(A, q + 1, r)"
   ],
   "outputs": [],
   "execution_count": null
  },
  {
   "metadata": {},
   "cell_type": "code",
   "source": [
    "# 第二题伪代码\n",
    "Top-K-Smallest(A, k):\n",
    "    x_idx = BB(A, 0, n-1, k)       # 找到第k小的元素\n",
    "    x = A[x_idx]\n",
    "    Partition(A, 0, n-1, x)        # 将数组划分为 <=x 和 >x 两部分\n",
    "    Sort(A[0..k-1])                # 仅排序前k个元素\n",
    "    return A[0..k-1]"
   ],
   "outputs": [],
   "execution_count": null
  },
  {
   "metadata": {},
   "cell_type": "code",
   "source": [
    "# 第三题伪代码\n",
    "K-Way-Partition(A, p, r, k):\n",
    "    if k == 1:\n",
    "        return\n",
    "    m = (r - p + 1) // k           # 每部分大小\n",
    "    x_idx = BB(A, p, r, m)          # 找到第m小的元素\n",
    "    x = A[x_idx]\n",
    "    q = Partition(A, p, r, x)       # 划分数组\n",
    "    K-Way-Partition(A, p, q, k//2)  # 递归处理左半部分\n",
    "    K-Way-Partition(A, q+1, r, k//2) # 递归处理右半部分"
   ],
   "outputs": [],
   "execution_count": null
  },
  {
   "cell_type": "markdown",
   "metadata": {},
   "source": [
    "## 问题 10：\n",
    "\n",
    "给定一个包含m个**字符串**的数组A, 其中不同的字符串可能有不同的字符数, 但数组中所有字符串的字符总数为n。设计一个算法在 $O(n)$ 时间内对字符串进行排序, 分析算法设计方案, 计算其时间复杂度, 并基于python编程实现该算法。请注意, 假设字符串只包含\"a\",\"b\",...,\"z\", \n",
    "\n",
    "\n",
    "\n",
    "举例1：数组A=[\"a\", \"da\", \"bde\", \"ab\", \"bc\", \"abdc\", \"cdba\"], 排序后的数组应该为：['a', 'ab', 'abdc', 'bc', 'bde', 'cdba', 'da']\n",
    "\n",
    "\n",
    "\n",
    "举例2：数组A=['ab', 'a', 'b', 'abc', 'ba', 'c'], 排序后的数组应该为：\n",
    "\n",
    "['a', 'ab', 'abc', 'b', 'ba', 'c']\n",
    "\n",
    "\n",
    "\n",
    "举例3：数组A=['aef', 'yzr', 'wr', 'ab', 'bhjc', 'lkabdc', 'pwcdba'],  排序后的数组应该为：['ab', 'aef', 'bhjc', 'lkabdc', 'pwcdba', 'wr', 'yzr']\n",
    "\n",
    "\n",
    "\n",
    "note：\n",
    "\n",
    "-  两个字符之间的比较可以考虑比较他们对应的ASCII码值；\n",
    "- python中可以使用`ord(\"a\")`返回字符 “a”对应的ASCII值"
   ]
  },
  {
   "cell_type": "markdown",
   "metadata": {},
   "source": [
    "idea:(求助AI)设计思路可以使用基数排序（Radix Sort）算法来解决这个问题。基数排序是一种非比较排序算法，它根据数字的每一位来进行排序。对于字符串排序，我们可以从字符串的最右字符开始，逐位进行排序。\n",
    "\n",
    "具体步骤如下：\n",
    "找到数组中最长字符串的长度，记为max_len。\n",
    "从右到左，对每个位置上的字符进行排序。如果某个字符串长度小于当前处理的位置，则视为空字符（可以认为空字符的 ASCII 码值最小）。\n",
    "使用稳定的排序算法（如计数排序）对每个位置上的字符进行排序。\n",
    "\n",
    "时间复杂度分析：假设字符串的最大长度为k，字符串的总数为m，所有字符串的字符总数为n。\n",
    "对于每一位的排序，使用计数排序，时间复杂度为$O(m+26)$（因为字符集是 26 个英文字母）。\n",
    "总共需要对k位进行排序，所以总的时间复杂度为$O(k(m+26))$。由于k⋅m≤n，所以时间复杂度为$O(n)$."
   ]
  },
  {
   "cell_type": "code",
   "metadata": {
    "ExecuteTime": {
     "end_time": "2025-05-08T13:50:28.503072Z",
     "start_time": "2025-05-08T13:50:28.487058Z"
    }
   },
   "source": [
    "# add your code here（求助AI）\n",
    "def radix_sort_strings(strings):\n",
    "    max_len = max(len(s) for s in strings)\n",
    "    for i in range(max_len - 1, -1, -1):\n",
    "        buckets = [[] for _ in range(26)]\n",
    "        for s in strings:\n",
    "            if i < len(s):\n",
    "                index = ord(s[i]) - ord('a')\n",
    "            else:\n",
    "                index = 0\n",
    "            buckets[index].append(s)\n",
    "        strings = []\n",
    "        for bucket in buckets:\n",
    "            strings.extend(bucket)\n",
    "    return strings\n",
    "\n",
    "\n",
    "if __name__ == \"__main__\":\n",
    "    test_cases = [\n",
    "        [\"a\", \"da\", \"bde\", \"ab\", \"bc\", \"abdc\", \"cdba\"],\n",
    "        [\"a\", \"da\", \"bde\", \"ab\", \"bc\", \"abdc\", \"cdba\"],\n",
    "        ['aef', 'yzr', 'wr', 'ab', 'bhjc', 'lkabdc', 'pwcdba']\n",
    "    ]\n",
    "\n",
    "    for idx, test_strings in enumerate(test_cases, start=1):\n",
    "        sorted_strings = radix_sort_strings(test_strings)\n",
    "        print(f\"example {idx} 排序前的字符串数组:\", test_strings)\n",
    "        print(f\"example {idx} 排序后的字符串数组:\", sorted_strings)\n",
    "        print()\n",
    "    \n",
    "\n",
    "  \n",
    "# your algorithm time complexity is :O(n)"
   ],
   "outputs": [
    {
     "name": "stdout",
     "output_type": "stream",
     "text": [
      "example 1 排序前的字符串数组: ['a', 'da', 'bde', 'ab', 'bc', 'abdc', 'cdba']\n",
      "example 1 排序后的字符串数组: ['a', 'ab', 'abdc', 'bc', 'bde', 'cdba', 'da']\n",
      "\n",
      "example 2 排序前的字符串数组: ['a', 'da', 'bde', 'ab', 'bc', 'abdc', 'cdba']\n",
      "example 2 排序后的字符串数组: ['a', 'ab', 'abdc', 'bc', 'bde', 'cdba', 'da']\n",
      "\n",
      "example 3 排序前的字符串数组: ['aef', 'yzr', 'wr', 'ab', 'bhjc', 'lkabdc', 'pwcdba']\n",
      "example 3 排序后的字符串数组: ['ab', 'aef', 'bhjc', 'lkabdc', 'pwcdba', 'wr', 'yzr']\n",
      "\n"
     ]
    }
   ],
   "execution_count": 25
  },
  {
   "metadata": {},
   "cell_type": "code",
   "outputs": [],
   "execution_count": null,
   "source": ""
  }
 ],
 "metadata": {
  "language_info": {
   "name": "python"
  },
  "kernelspec": {
   "name": "python3",
   "language": "python",
   "display_name": "Python 3 (ipykernel)"
  }
 },
 "nbformat": 4,
 "nbformat_minor": 2
}
